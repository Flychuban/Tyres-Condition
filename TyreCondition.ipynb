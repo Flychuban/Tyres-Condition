{
  "nbformat": 4,
  "nbformat_minor": 0,
  "metadata": {
    "colab": {
      "provenance": [],
      "mount_file_id": "1W7AZJ_cwNDYVtVKMwoxegajyhKvjyyTB",
      "authorship_tag": "ABX9TyNg8C0f48Z/7efKSM7hhila",
      "include_colab_link": true
    },
    "kernelspec": {
      "name": "python3",
      "display_name": "Python 3"
    },
    "language_info": {
      "name": "python"
    }
  },
  "cells": [
    {
      "cell_type": "markdown",
      "metadata": {
        "id": "view-in-github",
        "colab_type": "text"
      },
      "source": [
        "<a href=\"https://colab.research.google.com/github/Flychuban/Tyres-Condition/blob/main/TyreCondition.ipynb\" target=\"_parent\"><img src=\"https://colab.research.google.com/assets/colab-badge.svg\" alt=\"Open In Colab\"/></a>"
      ]
    },
    {
      "cell_type": "code",
      "execution_count": 43,
      "metadata": {
        "id": "uMIwvxX-HN6E"
      },
      "outputs": [],
      "source": [
        "from matplotlib import pyplot as plt\n",
        "import cv2\n",
        "import pandas as pd\n",
        "import numpy as np\n",
        "import glob\n",
        "from pathlib import Path\n",
        "import tensorflow as tf\n",
        "import os\n",
        "from tensorflow.keras.applications import ResNet50\n",
        "from tensorflow.keras.applications.resnet50 import preprocess_input\n",
        "from tensorflow.keras.preprocessing.image import ImageDataGenerator\n",
        "from tensorflow.keras.models import Model\n",
        "from tensorflow.keras.layers import Dense, Flatten, Dropout, Conv2D"
      ]
    },
    {
      "cell_type": "code",
      "source": [
        "train_path = Path('/content/drive/MyDrive/TyreConditionPrediction/data/Tire Textures/training_data')\n",
        "test_path = Path('/content/drive/MyDrive/TyreConditionPrediction/data/Tire Textures/testing_data')\n",
        "RANDOM_SEED = 10\n",
        "EPOCHS = 10\n",
        "BATCH_SIZE = 16"
      ],
      "metadata": {
        "id": "wIGKvG08O1oq"
      },
      "execution_count": 44,
      "outputs": []
    },
    {
      "cell_type": "code",
      "source": [
        "labels = os.listdir(train_path)\n",
        "labels"
      ],
      "metadata": {
        "id": "y9IlW1RoPu0Q",
        "colab": {
          "base_uri": "https://localhost:8080/"
        },
        "outputId": "d73cc89a-c607-49b2-d239-fa99c190d5e5"
      },
      "execution_count": 45,
      "outputs": [
        {
          "output_type": "execute_result",
          "data": {
            "text/plain": [
              "['normal', 'cracked']"
            ]
          },
          "metadata": {},
          "execution_count": 45
        }
      ]
    },
    {
      "cell_type": "markdown",
      "source": [
        "Let's make our dataset"
      ],
      "metadata": {
        "id": "ADEvfC37l1AV"
      }
    },
    {
      "cell_type": "code",
      "source": [
        "def process_data(data):\n",
        "  path = Path(data)\n",
        "  filepaths = list(path.glob(r'*/*.jpg'))\n",
        "  labels=list(map(lambda x: os.path.split(os.path.split(x)[0])[1],filepaths))#Separating the label from filepath and storing it\n",
        "  df1 = pd.Series(filepaths, name='filepaths').astype(str)\n",
        "  df2 = pd.Series(labels, name='labels')\n",
        "  df = pd.concat([df1, df2], axis=1)\n",
        "  return df"
      ],
      "metadata": {
        "id": "Yv2yzh7Vl0uD"
      },
      "execution_count": 46,
      "outputs": []
    },
    {
      "cell_type": "code",
      "source": [
        "train_data = process_data(train_path)\n",
        "test_data = process_data(test_path)\n",
        "train_data"
      ],
      "metadata": {
        "colab": {
          "base_uri": "https://localhost:8080/",
          "height": 423
        },
        "id": "jJLhzqYtlk8E",
        "outputId": "1b765f6f-05a4-45c9-a302-56d518b7bf26"
      },
      "execution_count": 47,
      "outputs": [
        {
          "output_type": "execute_result",
          "data": {
            "text/plain": [
              "                                             filepaths   labels\n",
              "0    /content/drive/MyDrive/TyreConditionPrediction...   normal\n",
              "1    /content/drive/MyDrive/TyreConditionPrediction...   normal\n",
              "2    /content/drive/MyDrive/TyreConditionPrediction...   normal\n",
              "3    /content/drive/MyDrive/TyreConditionPrediction...   normal\n",
              "4    /content/drive/MyDrive/TyreConditionPrediction...   normal\n",
              "..                                                 ...      ...\n",
              "698  /content/drive/MyDrive/TyreConditionPrediction...  cracked\n",
              "699  /content/drive/MyDrive/TyreConditionPrediction...  cracked\n",
              "700  /content/drive/MyDrive/TyreConditionPrediction...  cracked\n",
              "701  /content/drive/MyDrive/TyreConditionPrediction...  cracked\n",
              "702  /content/drive/MyDrive/TyreConditionPrediction...  cracked\n",
              "\n",
              "[703 rows x 2 columns]"
            ],
            "text/html": [
              "\n",
              "\n",
              "  <div id=\"df-a20a6d2b-d2b3-4010-ada6-5150846669cd\">\n",
              "    <div class=\"colab-df-container\">\n",
              "      <div>\n",
              "<style scoped>\n",
              "    .dataframe tbody tr th:only-of-type {\n",
              "        vertical-align: middle;\n",
              "    }\n",
              "\n",
              "    .dataframe tbody tr th {\n",
              "        vertical-align: top;\n",
              "    }\n",
              "\n",
              "    .dataframe thead th {\n",
              "        text-align: right;\n",
              "    }\n",
              "</style>\n",
              "<table border=\"1\" class=\"dataframe\">\n",
              "  <thead>\n",
              "    <tr style=\"text-align: right;\">\n",
              "      <th></th>\n",
              "      <th>filepaths</th>\n",
              "      <th>labels</th>\n",
              "    </tr>\n",
              "  </thead>\n",
              "  <tbody>\n",
              "    <tr>\n",
              "      <th>0</th>\n",
              "      <td>/content/drive/MyDrive/TyreConditionPrediction...</td>\n",
              "      <td>normal</td>\n",
              "    </tr>\n",
              "    <tr>\n",
              "      <th>1</th>\n",
              "      <td>/content/drive/MyDrive/TyreConditionPrediction...</td>\n",
              "      <td>normal</td>\n",
              "    </tr>\n",
              "    <tr>\n",
              "      <th>2</th>\n",
              "      <td>/content/drive/MyDrive/TyreConditionPrediction...</td>\n",
              "      <td>normal</td>\n",
              "    </tr>\n",
              "    <tr>\n",
              "      <th>3</th>\n",
              "      <td>/content/drive/MyDrive/TyreConditionPrediction...</td>\n",
              "      <td>normal</td>\n",
              "    </tr>\n",
              "    <tr>\n",
              "      <th>4</th>\n",
              "      <td>/content/drive/MyDrive/TyreConditionPrediction...</td>\n",
              "      <td>normal</td>\n",
              "    </tr>\n",
              "    <tr>\n",
              "      <th>...</th>\n",
              "      <td>...</td>\n",
              "      <td>...</td>\n",
              "    </tr>\n",
              "    <tr>\n",
              "      <th>698</th>\n",
              "      <td>/content/drive/MyDrive/TyreConditionPrediction...</td>\n",
              "      <td>cracked</td>\n",
              "    </tr>\n",
              "    <tr>\n",
              "      <th>699</th>\n",
              "      <td>/content/drive/MyDrive/TyreConditionPrediction...</td>\n",
              "      <td>cracked</td>\n",
              "    </tr>\n",
              "    <tr>\n",
              "      <th>700</th>\n",
              "      <td>/content/drive/MyDrive/TyreConditionPrediction...</td>\n",
              "      <td>cracked</td>\n",
              "    </tr>\n",
              "    <tr>\n",
              "      <th>701</th>\n",
              "      <td>/content/drive/MyDrive/TyreConditionPrediction...</td>\n",
              "      <td>cracked</td>\n",
              "    </tr>\n",
              "    <tr>\n",
              "      <th>702</th>\n",
              "      <td>/content/drive/MyDrive/TyreConditionPrediction...</td>\n",
              "      <td>cracked</td>\n",
              "    </tr>\n",
              "  </tbody>\n",
              "</table>\n",
              "<p>703 rows × 2 columns</p>\n",
              "</div>\n",
              "      <button class=\"colab-df-convert\" onclick=\"convertToInteractive('df-a20a6d2b-d2b3-4010-ada6-5150846669cd')\"\n",
              "              title=\"Convert this dataframe to an interactive table.\"\n",
              "              style=\"display:none;\">\n",
              "\n",
              "  <svg xmlns=\"http://www.w3.org/2000/svg\" height=\"24px\"viewBox=\"0 0 24 24\"\n",
              "       width=\"24px\">\n",
              "    <path d=\"M0 0h24v24H0V0z\" fill=\"none\"/>\n",
              "    <path d=\"M18.56 5.44l.94 2.06.94-2.06 2.06-.94-2.06-.94-.94-2.06-.94 2.06-2.06.94zm-11 1L8.5 8.5l.94-2.06 2.06-.94-2.06-.94L8.5 2.5l-.94 2.06-2.06.94zm10 10l.94 2.06.94-2.06 2.06-.94-2.06-.94-.94-2.06-.94 2.06-2.06.94z\"/><path d=\"M17.41 7.96l-1.37-1.37c-.4-.4-.92-.59-1.43-.59-.52 0-1.04.2-1.43.59L10.3 9.45l-7.72 7.72c-.78.78-.78 2.05 0 2.83L4 21.41c.39.39.9.59 1.41.59.51 0 1.02-.2 1.41-.59l7.78-7.78 2.81-2.81c.8-.78.8-2.07 0-2.86zM5.41 20L4 18.59l7.72-7.72 1.47 1.35L5.41 20z\"/>\n",
              "  </svg>\n",
              "      </button>\n",
              "\n",
              "\n",
              "\n",
              "    <div id=\"df-b95e9c93-298b-4fd0-99b6-18529b0a625e\">\n",
              "      <button class=\"colab-df-quickchart\" onclick=\"quickchart('df-b95e9c93-298b-4fd0-99b6-18529b0a625e')\"\n",
              "              title=\"Suggest charts.\"\n",
              "              style=\"display:none;\">\n",
              "\n",
              "<svg xmlns=\"http://www.w3.org/2000/svg\" height=\"24px\"viewBox=\"0 0 24 24\"\n",
              "     width=\"24px\">\n",
              "    <g>\n",
              "        <path d=\"M19 3H5c-1.1 0-2 .9-2 2v14c0 1.1.9 2 2 2h14c1.1 0 2-.9 2-2V5c0-1.1-.9-2-2-2zM9 17H7v-7h2v7zm4 0h-2V7h2v10zm4 0h-2v-4h2v4z\"/>\n",
              "    </g>\n",
              "</svg>\n",
              "      </button>\n",
              "    </div>\n",
              "\n",
              "<style>\n",
              "  .colab-df-quickchart {\n",
              "    background-color: #E8F0FE;\n",
              "    border: none;\n",
              "    border-radius: 50%;\n",
              "    cursor: pointer;\n",
              "    display: none;\n",
              "    fill: #1967D2;\n",
              "    height: 32px;\n",
              "    padding: 0 0 0 0;\n",
              "    width: 32px;\n",
              "  }\n",
              "\n",
              "  .colab-df-quickchart:hover {\n",
              "    background-color: #E2EBFA;\n",
              "    box-shadow: 0px 1px 2px rgba(60, 64, 67, 0.3), 0px 1px 3px 1px rgba(60, 64, 67, 0.15);\n",
              "    fill: #174EA6;\n",
              "  }\n",
              "\n",
              "  [theme=dark] .colab-df-quickchart {\n",
              "    background-color: #3B4455;\n",
              "    fill: #D2E3FC;\n",
              "  }\n",
              "\n",
              "  [theme=dark] .colab-df-quickchart:hover {\n",
              "    background-color: #434B5C;\n",
              "    box-shadow: 0px 1px 3px 1px rgba(0, 0, 0, 0.15);\n",
              "    filter: drop-shadow(0px 1px 2px rgba(0, 0, 0, 0.3));\n",
              "    fill: #FFFFFF;\n",
              "  }\n",
              "</style>\n",
              "\n",
              "    <script>\n",
              "      async function quickchart(key) {\n",
              "        const containerElement = document.querySelector('#' + key);\n",
              "        const charts = await google.colab.kernel.invokeFunction(\n",
              "            'suggestCharts', [key], {});\n",
              "      }\n",
              "    </script>\n",
              "\n",
              "      <script>\n",
              "\n",
              "function displayQuickchartButton(domScope) {\n",
              "  let quickchartButtonEl =\n",
              "    domScope.querySelector('#df-b95e9c93-298b-4fd0-99b6-18529b0a625e button.colab-df-quickchart');\n",
              "  quickchartButtonEl.style.display =\n",
              "    google.colab.kernel.accessAllowed ? 'block' : 'none';\n",
              "}\n",
              "\n",
              "        displayQuickchartButton(document);\n",
              "      </script>\n",
              "      <style>\n",
              "    .colab-df-container {\n",
              "      display:flex;\n",
              "      flex-wrap:wrap;\n",
              "      gap: 12px;\n",
              "    }\n",
              "\n",
              "    .colab-df-convert {\n",
              "      background-color: #E8F0FE;\n",
              "      border: none;\n",
              "      border-radius: 50%;\n",
              "      cursor: pointer;\n",
              "      display: none;\n",
              "      fill: #1967D2;\n",
              "      height: 32px;\n",
              "      padding: 0 0 0 0;\n",
              "      width: 32px;\n",
              "    }\n",
              "\n",
              "    .colab-df-convert:hover {\n",
              "      background-color: #E2EBFA;\n",
              "      box-shadow: 0px 1px 2px rgba(60, 64, 67, 0.3), 0px 1px 3px 1px rgba(60, 64, 67, 0.15);\n",
              "      fill: #174EA6;\n",
              "    }\n",
              "\n",
              "    [theme=dark] .colab-df-convert {\n",
              "      background-color: #3B4455;\n",
              "      fill: #D2E3FC;\n",
              "    }\n",
              "\n",
              "    [theme=dark] .colab-df-convert:hover {\n",
              "      background-color: #434B5C;\n",
              "      box-shadow: 0px 1px 3px 1px rgba(0, 0, 0, 0.15);\n",
              "      filter: drop-shadow(0px 1px 2px rgba(0, 0, 0, 0.3));\n",
              "      fill: #FFFFFF;\n",
              "    }\n",
              "  </style>\n",
              "\n",
              "      <script>\n",
              "        const buttonEl =\n",
              "          document.querySelector('#df-a20a6d2b-d2b3-4010-ada6-5150846669cd button.colab-df-convert');\n",
              "        buttonEl.style.display =\n",
              "          google.colab.kernel.accessAllowed ? 'block' : 'none';\n",
              "\n",
              "        async function convertToInteractive(key) {\n",
              "          const element = document.querySelector('#df-a20a6d2b-d2b3-4010-ada6-5150846669cd');\n",
              "          const dataTable =\n",
              "            await google.colab.kernel.invokeFunction('convertToInteractive',\n",
              "                                                     [key], {});\n",
              "          if (!dataTable) return;\n",
              "\n",
              "          const docLinkHtml = 'Like what you see? Visit the ' +\n",
              "            '<a target=\"_blank\" href=https://colab.research.google.com/notebooks/data_table.ipynb>data table notebook</a>'\n",
              "            + ' to learn more about interactive tables.';\n",
              "          element.innerHTML = '';\n",
              "          dataTable['output_type'] = 'display_data';\n",
              "          await google.colab.output.renderOutput(dataTable, element);\n",
              "          const docLink = document.createElement('div');\n",
              "          docLink.innerHTML = docLinkHtml;\n",
              "          element.appendChild(docLink);\n",
              "        }\n",
              "      </script>\n",
              "    </div>\n",
              "  </div>\n"
            ]
          },
          "metadata": {},
          "execution_count": 47
        }
      ]
    },
    {
      "cell_type": "code",
      "source": [
        "train_generator = ImageDataGenerator(preprocessing_function=preprocess_input)\n",
        "test_generator = ImageDataGenerator(preprocessing_function=preprocess_input)"
      ],
      "metadata": {
        "id": "_7OGEe6Bnejk"
      },
      "execution_count": 49,
      "outputs": []
    },
    {
      "cell_type": "code",
      "source": [
        "train_images = train_generator.flow_from_dataframe(dataframe=train_data,\n",
        "                                                   target_size=(224, 224),\n",
        "                                                   batch_size = BATCH_SIZE,\n",
        "                                                   subset='training',\n",
        "                                                   x_col='filepaths',\n",
        "                                                   y_col='labels',\n",
        "                                                   random_seed=RANDOM_SEED)\n",
        "\n",
        "test_images = test_generator.flow_from_dataframe(dataframe=test_data,\n",
        "                                                 target_size=(224, 224),\n",
        "                                                 batch_size=BATCH_SIZE,\n",
        "                                                 x_col='filepaths',\n",
        "                                                 y_col = 'labels',\n",
        "                                                 random_seed = RANDOM_SEED\n",
        "                                                 )"
      ],
      "metadata": {
        "colab": {
          "base_uri": "https://localhost:8080/"
        },
        "id": "mPhAgmzyouP6",
        "outputId": "e62b4887-3684-486f-d5cb-5ef6462b25bf"
      },
      "execution_count": 51,
      "outputs": [
        {
          "output_type": "stream",
          "name": "stdout",
          "text": [
            "Found 703 validated image filenames belonging to 2 classes.\n",
            "Found 325 validated image filenames belonging to 2 classes.\n"
          ]
        }
      ]
    },
    {
      "cell_type": "markdown",
      "source": [
        "Build the model"
      ],
      "metadata": {
        "id": "ThLy0IWgtEN5"
      }
    },
    {
      "cell_type": "code",
      "source": [
        "pretrained_model = ResNet50(\n",
        "    input_shape=(224, 224, 3),\n",
        "    include_top=False,\n",
        "    weights = 'imagenet',\n",
        "    pooling='max'\n",
        ")"
      ],
      "metadata": {
        "id": "G48n7LJZpjEM"
      },
      "execution_count": 52,
      "outputs": []
    },
    {
      "cell_type": "code",
      "source": [
        "pretrained_model.trainable = False # we make this cuz w don't train again the big model"
      ],
      "metadata": {
        "id": "0yfR_c9Atuwj"
      },
      "execution_count": 53,
      "outputs": []
    },
    {
      "cell_type": "code",
      "source": [
        "inputs = pretrained_model.input\n",
        "\n",
        "new_layer = Dense(120, activation='relu')(pretrained_model.output)\n",
        "new_layer = Dense(120, activation ='relu')(new_layer)\n",
        "\n",
        "outputs = Dense(2, activation = 'softmax')(new_layer)"
      ],
      "metadata": {
        "id": "PR3s4qb5t7y4"
      },
      "execution_count": 54,
      "outputs": []
    },
    {
      "cell_type": "code",
      "source": [
        "model = Model(inputs=inputs, outputs=outputs)"
      ],
      "metadata": {
        "id": "qwXoYoFTvH8K"
      },
      "execution_count": 55,
      "outputs": []
    },
    {
      "cell_type": "code",
      "source": [
        "\n",
        "model.compile(optimizer='adam',\n",
        "              loss='binary_crossentropy',\n",
        "              metrics=['accuracy']\n",
        ")"
      ],
      "metadata": {
        "id": "9kCxCBgtvRRT"
      },
      "execution_count": 56,
      "outputs": []
    },
    {
      "cell_type": "markdown",
      "source": [
        "Training"
      ],
      "metadata": {
        "id": "oz1LU1fEv08Z"
      }
    },
    {
      "cell_type": "code",
      "source": [
        "history = model.fit(train_images, epochs=EPOCHS)"
      ],
      "metadata": {
        "colab": {
          "base_uri": "https://localhost:8080/"
        },
        "id": "FEBldWbGvrub",
        "outputId": "85b4a051-f98a-4cf4-cca9-1241c7c3aa1e"
      },
      "execution_count": 57,
      "outputs": [
        {
          "output_type": "stream",
          "name": "stdout",
          "text": [
            "Epoch 1/10\n",
            "44/44 [==============================] - 189s 4s/step - loss: 0.5069 - accuracy: 0.8521\n",
            "Epoch 2/10\n",
            "44/44 [==============================] - 165s 4s/step - loss: 0.1412 - accuracy: 0.9502\n",
            "Epoch 3/10\n",
            "44/44 [==============================] - 164s 4s/step - loss: 0.1319 - accuracy: 0.9559\n",
            "Epoch 4/10\n",
            "44/44 [==============================] - 169s 4s/step - loss: 0.1107 - accuracy: 0.9644\n",
            "Epoch 5/10\n",
            "44/44 [==============================] - 166s 4s/step - loss: 0.0459 - accuracy: 0.9872\n",
            "Epoch 6/10\n",
            "44/44 [==============================] - 165s 4s/step - loss: 0.0235 - accuracy: 0.9929\n",
            "Epoch 7/10\n",
            "44/44 [==============================] - 170s 4s/step - loss: 0.0144 - accuracy: 0.9957\n",
            "Epoch 8/10\n",
            "44/44 [==============================] - 170s 4s/step - loss: 0.0036 - accuracy: 1.0000\n",
            "Epoch 9/10\n",
            "44/44 [==============================] - 169s 4s/step - loss: 0.0012 - accuracy: 1.0000\n",
            "Epoch 10/10\n",
            "44/44 [==============================] - 169s 4s/step - loss: 6.5026e-04 - accuracy: 1.0000\n"
          ]
        }
      ]
    },
    {
      "cell_type": "code",
      "source": [],
      "metadata": {
        "id": "yFJwKoxUwIQJ"
      },
      "execution_count": null,
      "outputs": []
    }
  ]
}