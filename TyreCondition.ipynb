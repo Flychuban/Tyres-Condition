{
  "nbformat": 4,
  "nbformat_minor": 0,
  "metadata": {
    "colab": {
      "provenance": [],
      "mount_file_id": "1W7AZJ_cwNDYVtVKMwoxegajyhKvjyyTB",
      "authorship_tag": "ABX9TyMBQLQ7OaYGlmp81bhdB8bQ",
      "include_colab_link": true
    },
    "kernelspec": {
      "name": "python3",
      "display_name": "Python 3"
    },
    "language_info": {
      "name": "python"
    }
  },
  "cells": [
    {
      "cell_type": "markdown",
      "metadata": {
        "id": "view-in-github",
        "colab_type": "text"
      },
      "source": [
        "<a href=\"https://colab.research.google.com/github/Flychuban/Tyres-Condition/blob/main/TyreCondition.ipynb\" target=\"_parent\"><img src=\"https://colab.research.google.com/assets/colab-badge.svg\" alt=\"Open In Colab\"/></a>"
      ]
    },
    {
      "cell_type": "code",
      "execution_count": 2,
      "metadata": {
        "id": "uMIwvxX-HN6E"
      },
      "outputs": [],
      "source": [
        "from matplotlib import pyplot as plt\n",
        "import cv2\n",
        "import pandas as pd\n",
        "import numpy as np\n",
        "import glob\n",
        "from pathlib import Path\n",
        "import tensorflow as tf\n",
        "import os\n",
        "from tensorflow.keras.applications import ResNet50\n",
        "from tensorflow.keras.applications.resnet50 import preprocess_input\n",
        "from tensorflow.keras.preprocessing.image import ImageDataGenerator\n",
        "from tensorflow.keras.models import Model\n",
        "from tensorflow.keras.layers import Dense, Flatten, Dropout, Conv2D"
      ]
    },
    {
      "cell_type": "code",
      "source": [
        "train_path = Path('/content/drive/MyDrive/TyreConditionPrediction/data/Tire Textures/training_data')\n",
        "test_path = Path('/content/drive/MyDrive/TyreConditionPrediction/data/Tire Textures/testing_data')\n",
        "RANDOM_SEED = 10\n",
        "EPOCHS = 10\n",
        "BATCH_SIZE = 16"
      ],
      "metadata": {
        "id": "wIGKvG08O1oq"
      },
      "execution_count": null,
      "outputs": []
    },
    {
      "cell_type": "code",
      "source": [
        "labels = os.listdir(train_path)\n",
        "labels"
      ],
      "metadata": {
        "id": "y9IlW1RoPu0Q"
      },
      "execution_count": null,
      "outputs": []
    },
    {
      "cell_type": "markdown",
      "source": [
        "Let's make our dataset"
      ],
      "metadata": {
        "id": "ADEvfC37l1AV"
      }
    },
    {
      "cell_type": "code",
      "source": [
        "def process_data(data):\n",
        "  path = Path(data)\n",
        "  filepaths = list(path.glob(r'*/*.jpg'))\n",
        "  labels=list(map(lambda x: os.path.split(os.path.split(x)[0])[1],filepaths))#Separating the label from filepath and storing it\n",
        "  df1 = pd.Series(filepaths, name='filepaths').astype(str)\n",
        "  df2 = pd.Series(labels, name='labels')\n",
        "  df = pd.concat([df1, df2], axis=1)\n",
        "  return df"
      ],
      "metadata": {
        "id": "Yv2yzh7Vl0uD"
      },
      "execution_count": null,
      "outputs": []
    },
    {
      "cell_type": "code",
      "source": [
        "train_data = process_data(train_path)\n",
        "test_data = process_data(test_path)\n",
        "train_data"
      ],
      "metadata": {
        "id": "jJLhzqYtlk8E"
      },
      "execution_count": null,
      "outputs": []
    },
    {
      "cell_type": "code",
      "source": [
        "train_generator = ImageDataGenerator(preprocessing_function=preprocess_input)\n",
        "test_generator = ImageDataGenerator(preprocessing_function=preprocess_input)"
      ],
      "metadata": {
        "id": "_7OGEe6Bnejk"
      },
      "execution_count": null,
      "outputs": []
    },
    {
      "cell_type": "code",
      "source": [
        "train_images = train_generator.flow_from_dataframe(dataframe=train_data,\n",
        "                                                   target_size=(224, 224),\n",
        "                                                   batch_size = BATCH_SIZE,\n",
        "                                                   subset='training',\n",
        "                                                   x_col='filepaths',\n",
        "                                                   y_col='labels',\n",
        "                                                   random_seed=RANDOM_SEED)\n",
        "\n",
        "test_images = test_generator.flow_from_dataframe(dataframe=test_data,\n",
        "                                                 target_size=(224, 224),\n",
        "                                                 batch_size=BATCH_SIZE,\n",
        "                                                 x_col='filepaths',\n",
        "                                                 y_col = 'labels',\n",
        "                                                 random_seed = RANDOM_SEED\n",
        "                                                 )"
      ],
      "metadata": {
        "id": "mPhAgmzyouP6"
      },
      "execution_count": null,
      "outputs": []
    },
    {
      "cell_type": "markdown",
      "source": [
        "Build the model"
      ],
      "metadata": {
        "id": "ThLy0IWgtEN5"
      }
    },
    {
      "cell_type": "code",
      "source": [
        "pretrained_model = ResNet50(\n",
        "    input_shape=(224, 224, 3),\n",
        "    include_top=False,\n",
        "    weights = 'imagenet',\n",
        "    pooling='max'\n",
        ")"
      ],
      "metadata": {
        "id": "G48n7LJZpjEM"
      },
      "execution_count": null,
      "outputs": []
    },
    {
      "cell_type": "code",
      "source": [
        "pretrained_model.trainable = False # we make this cuz w don't train again the big model"
      ],
      "metadata": {
        "id": "0yfR_c9Atuwj"
      },
      "execution_count": null,
      "outputs": []
    },
    {
      "cell_type": "code",
      "source": [
        "inputs = pretrained_model.input\n",
        "\n",
        "new_layer = Dense(120, activation='relu')(pretrained_model.output)\n",
        "new_layer = Dense(120, activation ='relu')(new_layer)\n",
        "\n",
        "outputs = Dense(2, activation = 'softmax')(new_layer)"
      ],
      "metadata": {
        "id": "PR3s4qb5t7y4"
      },
      "execution_count": null,
      "outputs": []
    },
    {
      "cell_type": "code",
      "source": [
        "model = Model(inputs=inputs, outputs=outputs)"
      ],
      "metadata": {
        "id": "qwXoYoFTvH8K"
      },
      "execution_count": null,
      "outputs": []
    },
    {
      "cell_type": "code",
      "source": [
        "\n",
        "model.compile(optimizer='adam',\n",
        "              loss='binary_crossentropy',\n",
        "              metrics=['accuracy']\n",
        ")"
      ],
      "metadata": {
        "id": "9kCxCBgtvRRT"
      },
      "execution_count": null,
      "outputs": []
    },
    {
      "cell_type": "markdown",
      "source": [
        "Training"
      ],
      "metadata": {
        "id": "oz1LU1fEv08Z"
      }
    },
    {
      "cell_type": "code",
      "source": [
        "history = model.fit(train_images, epochs=EPOCHS)"
      ],
      "metadata": {
        "id": "FEBldWbGvrub"
      },
      "execution_count": null,
      "outputs": []
    },
    {
      "cell_type": "code",
      "source": [
        "pd.DataFrame(history.history)[['accuracy']].plot()\n",
        "plt.title(\"Accuracy\")\n",
        "plt.show()\n",
        "pd.DataFrame(history.history)[['loss']].plot()\n",
        "plt.title(\"Loss\")\n",
        "plt.show()"
      ],
      "metadata": {
        "id": "yFJwKoxUwIQJ"
      },
      "execution_count": null,
      "outputs": []
    },
    {
      "cell_type": "code",
      "source": [
        "model.evaluate(test_images)"
      ],
      "metadata": {
        "id": "ZiGsFrpK56cP"
      },
      "execution_count": null,
      "outputs": []
    },
    {
      "cell_type": "code",
      "source": [
        "model.save(\"tyre_condition_model.h5\")"
      ],
      "metadata": {
        "id": "2XmNyFSd6J6B"
      },
      "execution_count": null,
      "outputs": []
    },
    {
      "cell_type": "code",
      "source": [
        "model = tf.keras.models.load_model('/content/drive/MyDrive/TyreConditionPrediction/tyre_condition_model.h5')"
      ],
      "metadata": {
        "id": "AzwhA90V69CL"
      },
      "execution_count": 3,
      "outputs": []
    },
    {
      "cell_type": "code",
      "source": [
        "from tensorflow.keras.preprocessing import image\n",
        "\n",
        "test_image = image.load_img('/content/drive/MyDrive/TyreConditionPrediction/tyre4_img.jpg', target_size = (224, 224)) # Get the image\n",
        "transformed_image = image.img_to_array(test_image) # Transform image to array\n",
        "transformed_image = np.expand_dims(transformed_image, axis=0) # Expand dims to make a batch of 1 image\n",
        "prediction = model.predict(transformed_image)\n",
        "\n",
        "if prediction[0][0] > 0.5:\n",
        "  print(\"This tyre HAS a problem!\")\n",
        "else:\n",
        "  print(\"This tyre HASN'T problem!\")"
      ],
      "metadata": {
        "colab": {
          "base_uri": "https://localhost:8080/"
        },
        "id": "jsxibOcpFrcr",
        "outputId": "bca9d7ce-d39d-43bc-fba3-f10d6f90c171"
      },
      "execution_count": 35,
      "outputs": [
        {
          "output_type": "stream",
          "name": "stdout",
          "text": [
            "1/1 [==============================] - 0s 253ms/step\n",
            "This tyre HASN'T problem!\n"
          ]
        }
      ]
    },
    {
      "cell_type": "code",
      "source": [],
      "metadata": {
        "id": "dH2Tix-8Gw13"
      },
      "execution_count": null,
      "outputs": []
    }
  ]
}