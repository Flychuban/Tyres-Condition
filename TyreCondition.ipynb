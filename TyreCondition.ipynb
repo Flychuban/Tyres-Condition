{
  "nbformat": 4,
  "nbformat_minor": 0,
  "metadata": {
    "colab": {
      "provenance": [],
      "mount_file_id": "1W7AZJ_cwNDYVtVKMwoxegajyhKvjyyTB",
      "authorship_tag": "ABX9TyMKM4qMdCA4JNsRMCeFZBZQ",
      "include_colab_link": true
    },
    "kernelspec": {
      "name": "python3",
      "display_name": "Python 3"
    },
    "language_info": {
      "name": "python"
    }
  },
  "cells": [
    {
      "cell_type": "markdown",
      "metadata": {
        "id": "view-in-github",
        "colab_type": "text"
      },
      "source": [
        "<a href=\"https://colab.research.google.com/github/Flychuban/Tyres-Condition/blob/main/TyreCondition.ipynb\" target=\"_parent\"><img src=\"https://colab.research.google.com/assets/colab-badge.svg\" alt=\"Open In Colab\"/></a>"
      ]
    },
    {
      "cell_type": "code",
      "execution_count": 2,
      "metadata": {
        "id": "uMIwvxX-HN6E"
      },
      "outputs": [],
      "source": [
        "from matplotlib import pyplot as plt\n",
        "import cv2\n",
        "import pandas as pd\n",
        "import numpy as np\n",
        "import glob\n",
        "from pathlib import Path\n",
        "import tensorflow as tf\n",
        "import os\n",
        "from tensorflow.keras.applications import ResNet50\n",
        "from tensorflow.keras.applications.resnet50 import preprocess_input\n",
        "from tensorflow.keras.preprocessing.image import ImageDataGenerator\n",
        "from tensorflow.keras.models import Model\n",
        "from tensorflow.keras.layers import Dense, Flatten, Dropout, Conv2D\n",
        "from tensorflow.keras.callbacks import EarlyStopping"
      ]
    },
    {
      "cell_type": "code",
      "source": [
        "train_path = Path('/content/drive/MyDrive/TyreConditionPrediction/data/Tire Textures/training_data')\n",
        "test_path = Path('/content/drive/MyDrive/TyreConditionPrediction/data/Tire Textures/testing_data')\n",
        "RANDOM_SEED = 10\n",
        "EPOCHS = 50\n",
        "BATCH_SIZE = 16"
      ],
      "metadata": {
        "id": "wIGKvG08O1oq"
      },
      "execution_count": 24,
      "outputs": []
    },
    {
      "cell_type": "code",
      "source": [
        "labels = os.listdir(train_path)\n",
        "labels"
      ],
      "metadata": {
        "id": "y9IlW1RoPu0Q",
        "colab": {
          "base_uri": "https://localhost:8080/"
        },
        "outputId": "80fe177a-7d3a-40f5-9ff7-5dbd7426230f"
      },
      "execution_count": 25,
      "outputs": [
        {
          "output_type": "execute_result",
          "data": {
            "text/plain": [
              "['normal', 'cracked']"
            ]
          },
          "metadata": {},
          "execution_count": 25
        }
      ]
    },
    {
      "cell_type": "markdown",
      "source": [
        "Let's make our dataset"
      ],
      "metadata": {
        "id": "ADEvfC37l1AV"
      }
    },
    {
      "cell_type": "code",
      "source": [
        "def process_data(data):\n",
        "  path = Path(data)\n",
        "  filepaths = list(path.glob(r'*/*.jpg'))\n",
        "  labels=list(map(lambda x: os.path.split(os.path.split(x)[0])[1],filepaths))#Separating the label from filepath and storing it\n",
        "  df1 = pd.Series(filepaths, name='filepaths').astype(str)\n",
        "  df2 = pd.Series(labels, name='labels')\n",
        "  df = pd.concat([df1, df2], axis=1)\n",
        "  return df"
      ],
      "metadata": {
        "id": "Yv2yzh7Vl0uD"
      },
      "execution_count": 26,
      "outputs": []
    },
    {
      "cell_type": "code",
      "source": [
        "train_data = process_data(train_path)\n",
        "test_data = process_data(test_path)\n",
        "train_data"
      ],
      "metadata": {
        "id": "jJLhzqYtlk8E",
        "colab": {
          "base_uri": "https://localhost:8080/",
          "height": 423
        },
        "outputId": "972cf933-436b-4359-dde3-5bf9f16c7f1d"
      },
      "execution_count": 65,
      "outputs": [
        {
          "output_type": "execute_result",
          "data": {
            "text/plain": [
              "                                             filepaths   labels\n",
              "0    /content/drive/MyDrive/TyreConditionPrediction...   normal\n",
              "1    /content/drive/MyDrive/TyreConditionPrediction...   normal\n",
              "2    /content/drive/MyDrive/TyreConditionPrediction...   normal\n",
              "3    /content/drive/MyDrive/TyreConditionPrediction...   normal\n",
              "4    /content/drive/MyDrive/TyreConditionPrediction...   normal\n",
              "..                                                 ...      ...\n",
              "698  /content/drive/MyDrive/TyreConditionPrediction...  cracked\n",
              "699  /content/drive/MyDrive/TyreConditionPrediction...  cracked\n",
              "700  /content/drive/MyDrive/TyreConditionPrediction...  cracked\n",
              "701  /content/drive/MyDrive/TyreConditionPrediction...  cracked\n",
              "702  /content/drive/MyDrive/TyreConditionPrediction...  cracked\n",
              "\n",
              "[703 rows x 2 columns]"
            ],
            "text/html": [
              "\n",
              "\n",
              "  <div id=\"df-dd75137b-8dda-43e8-867c-e77c753f2628\">\n",
              "    <div class=\"colab-df-container\">\n",
              "      <div>\n",
              "<style scoped>\n",
              "    .dataframe tbody tr th:only-of-type {\n",
              "        vertical-align: middle;\n",
              "    }\n",
              "\n",
              "    .dataframe tbody tr th {\n",
              "        vertical-align: top;\n",
              "    }\n",
              "\n",
              "    .dataframe thead th {\n",
              "        text-align: right;\n",
              "    }\n",
              "</style>\n",
              "<table border=\"1\" class=\"dataframe\">\n",
              "  <thead>\n",
              "    <tr style=\"text-align: right;\">\n",
              "      <th></th>\n",
              "      <th>filepaths</th>\n",
              "      <th>labels</th>\n",
              "    </tr>\n",
              "  </thead>\n",
              "  <tbody>\n",
              "    <tr>\n",
              "      <th>0</th>\n",
              "      <td>/content/drive/MyDrive/TyreConditionPrediction...</td>\n",
              "      <td>normal</td>\n",
              "    </tr>\n",
              "    <tr>\n",
              "      <th>1</th>\n",
              "      <td>/content/drive/MyDrive/TyreConditionPrediction...</td>\n",
              "      <td>normal</td>\n",
              "    </tr>\n",
              "    <tr>\n",
              "      <th>2</th>\n",
              "      <td>/content/drive/MyDrive/TyreConditionPrediction...</td>\n",
              "      <td>normal</td>\n",
              "    </tr>\n",
              "    <tr>\n",
              "      <th>3</th>\n",
              "      <td>/content/drive/MyDrive/TyreConditionPrediction...</td>\n",
              "      <td>normal</td>\n",
              "    </tr>\n",
              "    <tr>\n",
              "      <th>4</th>\n",
              "      <td>/content/drive/MyDrive/TyreConditionPrediction...</td>\n",
              "      <td>normal</td>\n",
              "    </tr>\n",
              "    <tr>\n",
              "      <th>...</th>\n",
              "      <td>...</td>\n",
              "      <td>...</td>\n",
              "    </tr>\n",
              "    <tr>\n",
              "      <th>698</th>\n",
              "      <td>/content/drive/MyDrive/TyreConditionPrediction...</td>\n",
              "      <td>cracked</td>\n",
              "    </tr>\n",
              "    <tr>\n",
              "      <th>699</th>\n",
              "      <td>/content/drive/MyDrive/TyreConditionPrediction...</td>\n",
              "      <td>cracked</td>\n",
              "    </tr>\n",
              "    <tr>\n",
              "      <th>700</th>\n",
              "      <td>/content/drive/MyDrive/TyreConditionPrediction...</td>\n",
              "      <td>cracked</td>\n",
              "    </tr>\n",
              "    <tr>\n",
              "      <th>701</th>\n",
              "      <td>/content/drive/MyDrive/TyreConditionPrediction...</td>\n",
              "      <td>cracked</td>\n",
              "    </tr>\n",
              "    <tr>\n",
              "      <th>702</th>\n",
              "      <td>/content/drive/MyDrive/TyreConditionPrediction...</td>\n",
              "      <td>cracked</td>\n",
              "    </tr>\n",
              "  </tbody>\n",
              "</table>\n",
              "<p>703 rows × 2 columns</p>\n",
              "</div>\n",
              "      <button class=\"colab-df-convert\" onclick=\"convertToInteractive('df-dd75137b-8dda-43e8-867c-e77c753f2628')\"\n",
              "              title=\"Convert this dataframe to an interactive table.\"\n",
              "              style=\"display:none;\">\n",
              "\n",
              "  <svg xmlns=\"http://www.w3.org/2000/svg\" height=\"24px\"viewBox=\"0 0 24 24\"\n",
              "       width=\"24px\">\n",
              "    <path d=\"M0 0h24v24H0V0z\" fill=\"none\"/>\n",
              "    <path d=\"M18.56 5.44l.94 2.06.94-2.06 2.06-.94-2.06-.94-.94-2.06-.94 2.06-2.06.94zm-11 1L8.5 8.5l.94-2.06 2.06-.94-2.06-.94L8.5 2.5l-.94 2.06-2.06.94zm10 10l.94 2.06.94-2.06 2.06-.94-2.06-.94-.94-2.06-.94 2.06-2.06.94z\"/><path d=\"M17.41 7.96l-1.37-1.37c-.4-.4-.92-.59-1.43-.59-.52 0-1.04.2-1.43.59L10.3 9.45l-7.72 7.72c-.78.78-.78 2.05 0 2.83L4 21.41c.39.39.9.59 1.41.59.51 0 1.02-.2 1.41-.59l7.78-7.78 2.81-2.81c.8-.78.8-2.07 0-2.86zM5.41 20L4 18.59l7.72-7.72 1.47 1.35L5.41 20z\"/>\n",
              "  </svg>\n",
              "      </button>\n",
              "\n",
              "\n",
              "\n",
              "    <div id=\"df-4f0666cf-9f05-426d-b2e0-c8a5f0b998bc\">\n",
              "      <button class=\"colab-df-quickchart\" onclick=\"quickchart('df-4f0666cf-9f05-426d-b2e0-c8a5f0b998bc')\"\n",
              "              title=\"Suggest charts.\"\n",
              "              style=\"display:none;\">\n",
              "\n",
              "<svg xmlns=\"http://www.w3.org/2000/svg\" height=\"24px\"viewBox=\"0 0 24 24\"\n",
              "     width=\"24px\">\n",
              "    <g>\n",
              "        <path d=\"M19 3H5c-1.1 0-2 .9-2 2v14c0 1.1.9 2 2 2h14c1.1 0 2-.9 2-2V5c0-1.1-.9-2-2-2zM9 17H7v-7h2v7zm4 0h-2V7h2v10zm4 0h-2v-4h2v4z\"/>\n",
              "    </g>\n",
              "</svg>\n",
              "      </button>\n",
              "    </div>\n",
              "\n",
              "<style>\n",
              "  .colab-df-quickchart {\n",
              "    background-color: #E8F0FE;\n",
              "    border: none;\n",
              "    border-radius: 50%;\n",
              "    cursor: pointer;\n",
              "    display: none;\n",
              "    fill: #1967D2;\n",
              "    height: 32px;\n",
              "    padding: 0 0 0 0;\n",
              "    width: 32px;\n",
              "  }\n",
              "\n",
              "  .colab-df-quickchart:hover {\n",
              "    background-color: #E2EBFA;\n",
              "    box-shadow: 0px 1px 2px rgba(60, 64, 67, 0.3), 0px 1px 3px 1px rgba(60, 64, 67, 0.15);\n",
              "    fill: #174EA6;\n",
              "  }\n",
              "\n",
              "  [theme=dark] .colab-df-quickchart {\n",
              "    background-color: #3B4455;\n",
              "    fill: #D2E3FC;\n",
              "  }\n",
              "\n",
              "  [theme=dark] .colab-df-quickchart:hover {\n",
              "    background-color: #434B5C;\n",
              "    box-shadow: 0px 1px 3px 1px rgba(0, 0, 0, 0.15);\n",
              "    filter: drop-shadow(0px 1px 2px rgba(0, 0, 0, 0.3));\n",
              "    fill: #FFFFFF;\n",
              "  }\n",
              "</style>\n",
              "\n",
              "    <script>\n",
              "      async function quickchart(key) {\n",
              "        const containerElement = document.querySelector('#' + key);\n",
              "        const charts = await google.colab.kernel.invokeFunction(\n",
              "            'suggestCharts', [key], {});\n",
              "      }\n",
              "    </script>\n",
              "\n",
              "      <script>\n",
              "\n",
              "function displayQuickchartButton(domScope) {\n",
              "  let quickchartButtonEl =\n",
              "    domScope.querySelector('#df-4f0666cf-9f05-426d-b2e0-c8a5f0b998bc button.colab-df-quickchart');\n",
              "  quickchartButtonEl.style.display =\n",
              "    google.colab.kernel.accessAllowed ? 'block' : 'none';\n",
              "}\n",
              "\n",
              "        displayQuickchartButton(document);\n",
              "      </script>\n",
              "      <style>\n",
              "    .colab-df-container {\n",
              "      display:flex;\n",
              "      flex-wrap:wrap;\n",
              "      gap: 12px;\n",
              "    }\n",
              "\n",
              "    .colab-df-convert {\n",
              "      background-color: #E8F0FE;\n",
              "      border: none;\n",
              "      border-radius: 50%;\n",
              "      cursor: pointer;\n",
              "      display: none;\n",
              "      fill: #1967D2;\n",
              "      height: 32px;\n",
              "      padding: 0 0 0 0;\n",
              "      width: 32px;\n",
              "    }\n",
              "\n",
              "    .colab-df-convert:hover {\n",
              "      background-color: #E2EBFA;\n",
              "      box-shadow: 0px 1px 2px rgba(60, 64, 67, 0.3), 0px 1px 3px 1px rgba(60, 64, 67, 0.15);\n",
              "      fill: #174EA6;\n",
              "    }\n",
              "\n",
              "    [theme=dark] .colab-df-convert {\n",
              "      background-color: #3B4455;\n",
              "      fill: #D2E3FC;\n",
              "    }\n",
              "\n",
              "    [theme=dark] .colab-df-convert:hover {\n",
              "      background-color: #434B5C;\n",
              "      box-shadow: 0px 1px 3px 1px rgba(0, 0, 0, 0.15);\n",
              "      filter: drop-shadow(0px 1px 2px rgba(0, 0, 0, 0.3));\n",
              "      fill: #FFFFFF;\n",
              "    }\n",
              "  </style>\n",
              "\n",
              "      <script>\n",
              "        const buttonEl =\n",
              "          document.querySelector('#df-dd75137b-8dda-43e8-867c-e77c753f2628 button.colab-df-convert');\n",
              "        buttonEl.style.display =\n",
              "          google.colab.kernel.accessAllowed ? 'block' : 'none';\n",
              "\n",
              "        async function convertToInteractive(key) {\n",
              "          const element = document.querySelector('#df-dd75137b-8dda-43e8-867c-e77c753f2628');\n",
              "          const dataTable =\n",
              "            await google.colab.kernel.invokeFunction('convertToInteractive',\n",
              "                                                     [key], {});\n",
              "          if (!dataTable) return;\n",
              "\n",
              "          const docLinkHtml = 'Like what you see? Visit the ' +\n",
              "            '<a target=\"_blank\" href=https://colab.research.google.com/notebooks/data_table.ipynb>data table notebook</a>'\n",
              "            + ' to learn more about interactive tables.';\n",
              "          element.innerHTML = '';\n",
              "          dataTable['output_type'] = 'display_data';\n",
              "          await google.colab.output.renderOutput(dataTable, element);\n",
              "          const docLink = document.createElement('div');\n",
              "          docLink.innerHTML = docLinkHtml;\n",
              "          element.appendChild(docLink);\n",
              "        }\n",
              "      </script>\n",
              "    </div>\n",
              "  </div>\n"
            ]
          },
          "metadata": {},
          "execution_count": 65
        }
      ]
    },
    {
      "cell_type": "code",
      "source": [
        "train_generator = ImageDataGenerator(preprocessing_function=preprocess_input,\n",
        "                                     rotation_range=20,\n",
        "                                     width_shift_range=0.2,\n",
        "                                     height_shift_range=0.2,\n",
        "                                     horizontal_flip=True,\n",
        "                                     vertical_flip=True)\n",
        "test_generator = ImageDataGenerator(preprocessing_function=preprocess_input,\n",
        "                                    rotation_range=20,\n",
        "                                    width_shift_range=0.2,\n",
        "                                    height_shift_range=0.2,\n",
        "                                    horizontal_flip=True,\n",
        "                                    vertical_flip=True,\n",
        "                                    validation_split=0.5)"
      ],
      "metadata": {
        "id": "_7OGEe6Bnejk"
      },
      "execution_count": 80,
      "outputs": []
    },
    {
      "cell_type": "code",
      "source": [
        "train_images = train_generator.flow_from_dataframe(dataframe=train_data,\n",
        "                                                   target_size=(224, 224),\n",
        "                                                   batch_size = BATCH_SIZE,\n",
        "                                                   x_col='filepaths',\n",
        "                                                   y_col='labels',\n",
        "                                                   class_mode='binary',\n",
        "                                                   random_seed=RANDOM_SEED)\n",
        "\n",
        "test_images = test_generator.flow_from_dataframe(dataframe=test_data,\n",
        "                                                 target_size=(224, 224),\n",
        "                                                 batch_size=BATCH_SIZE,\n",
        "                                                 x_col='filepaths',\n",
        "                                                 y_col = 'labels',\n",
        "                                                 class_mode='binary',\n",
        "                                                 random_seed = RANDOM_SEED,\n",
        "                                                 subset='training'\n",
        "                                                 )\n",
        "\n",
        "val_images = test_generator.flow_from_dataframe(dataframe=test_data,\n",
        "                                                   target_size=(224, 224),\n",
        "                                                   batch_size = BATCH_SIZE,\n",
        "                                                   x_col='filepaths',\n",
        "                                                   y_col='labels',\n",
        "                                                   class_mode='binary',\n",
        "                                                   random_seed=RANDOM_SEED,\n",
        "                                                   subset=\"validation\"\n",
        "                                                )\n"
      ],
      "metadata": {
        "id": "mPhAgmzyouP6",
        "colab": {
          "base_uri": "https://localhost:8080/"
        },
        "outputId": "962089bf-fd6e-4ccd-c4bc-19da723b21ff"
      },
      "execution_count": 81,
      "outputs": [
        {
          "output_type": "stream",
          "name": "stdout",
          "text": [
            "Found 703 validated image filenames belonging to 2 classes.\n",
            "Found 163 validated image filenames belonging to 2 classes.\n",
            "Found 162 validated image filenames belonging to 2 classes.\n"
          ]
        }
      ]
    },
    {
      "cell_type": "markdown",
      "source": [
        "Build the model"
      ],
      "metadata": {
        "id": "ThLy0IWgtEN5"
      }
    },
    {
      "cell_type": "code",
      "source": [
        "pretrained_model = ResNet50(\n",
        "    input_shape=(224, 224, 3),\n",
        "    include_top=False,\n",
        "    weights = 'imagenet',\n",
        "    pooling='max'\n",
        ")"
      ],
      "metadata": {
        "id": "G48n7LJZpjEM"
      },
      "execution_count": 82,
      "outputs": []
    },
    {
      "cell_type": "code",
      "source": [
        "pretrained_model.trainable = False # we make this cuz w don't train again the big model"
      ],
      "metadata": {
        "id": "0yfR_c9Atuwj"
      },
      "execution_count": 83,
      "outputs": []
    },
    {
      "cell_type": "code",
      "source": [
        "inputs = pretrained_model.input\n",
        "\n",
        "new_layer = Dense(30, activation='relu')(pretrained_model.output)\n",
        "Dropout(0.3)\n",
        "new_layer = Dense(60, activation='relu')(new_layer)\n",
        "Dropout(0.5)\n",
        "new_layer = Dense(120, activation ='relu')(new_layer)\n",
        "\n",
        "outputs = Dense(1, activation = 'sigmoid')(new_layer)"
      ],
      "metadata": {
        "id": "PR3s4qb5t7y4"
      },
      "execution_count": 84,
      "outputs": []
    },
    {
      "cell_type": "code",
      "source": [
        "model = Model(inputs=inputs, outputs=outputs)"
      ],
      "metadata": {
        "id": "qwXoYoFTvH8K"
      },
      "execution_count": 85,
      "outputs": []
    },
    {
      "cell_type": "code",
      "source": [
        "\n",
        "model.compile(optimizer='adam',\n",
        "              loss='binary_crossentropy',\n",
        "              metrics=['accuracy']\n",
        ")"
      ],
      "metadata": {
        "id": "9kCxCBgtvRRT"
      },
      "execution_count": 86,
      "outputs": []
    },
    {
      "cell_type": "code",
      "source": [
        "early_stop = EarlyStopping(monitor='val_loss',patience=3, restore_best_weights=True)"
      ],
      "metadata": {
        "id": "KoNsqj2aufh6"
      },
      "execution_count": 87,
      "outputs": []
    },
    {
      "cell_type": "markdown",
      "source": [
        "Training"
      ],
      "metadata": {
        "id": "oz1LU1fEv08Z"
      }
    },
    {
      "cell_type": "code",
      "source": [
        "history = model.fit(train_images,\n",
        "                    epochs=EPOCHS,\n",
        "                    steps_per_epoch=len(train_images),\n",
        "                    validation_data=val_images,\n",
        "                    validation_steps=len(val_images),\n",
        "                    callbacks=[early_stop]\n",
        "                    )"
      ],
      "metadata": {
        "id": "FEBldWbGvrub",
        "colab": {
          "base_uri": "https://localhost:8080/"
        },
        "outputId": "102b45ea-3e44-4393-d32f-eb4bd115dd8a"
      },
      "execution_count": 88,
      "outputs": [
        {
          "output_type": "stream",
          "name": "stdout",
          "text": [
            "Epoch 1/50\n",
            "44/44 [==============================] - 207s 5s/step - loss: 0.4771 - accuracy: 0.7696 - val_loss: 0.4097 - val_accuracy: 0.8457\n",
            "Epoch 2/50\n",
            "44/44 [==============================] - 197s 4s/step - loss: 0.2564 - accuracy: 0.9047 - val_loss: 0.3657 - val_accuracy: 0.8519\n",
            "Epoch 3/50\n",
            "44/44 [==============================] - 201s 5s/step - loss: 0.2314 - accuracy: 0.9132 - val_loss: 0.3555 - val_accuracy: 0.8827\n",
            "Epoch 4/50\n",
            "44/44 [==============================] - 197s 4s/step - loss: 0.2099 - accuracy: 0.9275 - val_loss: 0.3045 - val_accuracy: 0.8642\n",
            "Epoch 5/50\n",
            "44/44 [==============================] - 204s 5s/step - loss: 0.2068 - accuracy: 0.9260 - val_loss: 0.3858 - val_accuracy: 0.8395\n",
            "Epoch 6/50\n",
            "44/44 [==============================] - 199s 4s/step - loss: 0.1943 - accuracy: 0.9317 - val_loss: 0.2405 - val_accuracy: 0.8827\n",
            "Epoch 7/50\n",
            "44/44 [==============================] - 194s 4s/step - loss: 0.1470 - accuracy: 0.9516 - val_loss: 0.3273 - val_accuracy: 0.8765\n",
            "Epoch 8/50\n",
            "44/44 [==============================] - 204s 5s/step - loss: 0.1423 - accuracy: 0.9545 - val_loss: 0.2395 - val_accuracy: 0.9136\n",
            "Epoch 9/50\n",
            "44/44 [==============================] - 198s 5s/step - loss: 0.1531 - accuracy: 0.9559 - val_loss: 0.2019 - val_accuracy: 0.9012\n",
            "Epoch 10/50\n",
            "44/44 [==============================] - 197s 4s/step - loss: 0.1367 - accuracy: 0.9502 - val_loss: 0.2757 - val_accuracy: 0.8889\n",
            "Epoch 11/50\n",
            "44/44 [==============================] - 238s 5s/step - loss: 0.1293 - accuracy: 0.9559 - val_loss: 0.4872 - val_accuracy: 0.8457\n",
            "Epoch 12/50\n",
            "44/44 [==============================] - 197s 4s/step - loss: 0.1306 - accuracy: 0.9459 - val_loss: 0.2399 - val_accuracy: 0.9074\n"
          ]
        }
      ]
    },
    {
      "cell_type": "code",
      "source": [
        "def plotLearningCurve(history,epochs):\n",
        "  epochRange = range(1,epochs+1)\n",
        "  plt.plot(epochRange,history.history['accuracy'])\n",
        "  plt.plot(epochRange,history.history['val_accuracy'])\n",
        "  plt.title('Model Accuracy')\n",
        "  plt.xlabel('Epoch')\n",
        "  plt.ylabel('Accuracy')\n",
        "  plt.legend(['Train','Validation'],loc='upper left')\n",
        "  plt.show()\n",
        "\n",
        "  plt.plot(epochRange,history.history['loss'])\n",
        "  plt.plot(epochRange,history.history['val_loss'])\n",
        "  plt.title('Model Loss')\n",
        "  plt.xlabel('Epoch')\n",
        "  plt.ylabel('Loss')\n",
        "  plt.legend(['Train','Validation'],loc='upper left')\n",
        "  plt.show()"
      ],
      "metadata": {
        "id": "yFJwKoxUwIQJ"
      },
      "execution_count": 91,
      "outputs": []
    },
    {
      "cell_type": "code",
      "source": [
        "plotLearningCurve(history,12)"
      ],
      "metadata": {
        "colab": {
          "base_uri": "https://localhost:8080/",
          "height": 927
        },
        "id": "p16bw4gW-MA-",
        "outputId": "bf276378-0ae5-4df5-aa94-c5facb4de576"
      },
      "execution_count": 93,
      "outputs": [
        {
          "output_type": "display_data",
          "data": {
            "text/plain": [
              "<Figure size 640x480 with 1 Axes>"
            ],
            "image/png": "[encoded data removed]"
          },
          "metadata": {}
        },
        {
          "output_type": "display_data",
          "data": {
            "text/plain": [
              "<Figure size 640x480 with 1 Axes>"
            ],
            "image/png": "[encoded data removed]"
          },
          "metadata": {}
        }
      ]
    },
    {
      "cell_type": "code",
      "source": [
        "model.evaluate(test_images)"
      ],
      "metadata": {
        "id": "ZiGsFrpK56cP",
        "colab": {
          "base_uri": "https://localhost:8080/",
          "height": 171
        },
        "outputId": "1ef8cd2f-3b0e-4046-d257-024c7e46f56a"
      },
      "execution_count": 9,
      "outputs": [
        {
          "output_type": "error",
          "ename": "NameError",
          "evalue": "ignored",
          "traceback": [
            "\u001b[0;31m---------------------------------------------------------------------------\u001b[0m",
            "\u001b[0;31mNameError\u001b[0m                                 Traceback (most recent call last)",
            "\u001b[0;32m<ipython-input-9-6aba01ad69f6>\u001b[0m in \u001b[0;36m<cell line: 1>\u001b[0;34m()\u001b[0m\n\u001b[0;32m----> 1\u001b[0;31m \u001b[0mmodel\u001b[0m\u001b[0;34m.\u001b[0m\u001b[0mevaluate\u001b[0m\u001b[0;34m(\u001b[0m\u001b[0mtest_images\u001b[0m\u001b[0;34m)\u001b[0m\u001b[0;34m\u001b[0m\u001b[0;34m\u001b[0m\u001b[0m\n\u001b[0m",
            "\u001b[0;31mNameError\u001b[0m: name 'test_images' is not defined"
          ]
        }
      ]
    },
    {
      "cell_type": "code",
      "source": [
        "model.save(\"tyre_condition_model_4.h5\")"
      ],
      "metadata": {
        "id": "2XmNyFSd6J6B"
      },
      "execution_count": 95,
      "outputs": []
    },
    {
      "cell_type": "code",
      "source": [
        "model = tf.keras.models.load_model('/content/drive/MyDrive/TyreConditionPrediction/tyre_condition_model_4.h5')"
      ],
      "metadata": {
        "id": "AzwhA90V69CL"
      },
      "execution_count": 10,
      "outputs": []
    },
    {
      "cell_type": "code",
      "source": [
        "from tensorflow.keras.preprocessing import image\n",
        "\n",
        "test_image = image.load_img('/content/drive/MyDrive/TyreConditionPrediction/tyre4_img.jpg', target_size = (224, 224)) # Get the image\n",
        "transformed_image = image.img_to_array(test_image) # Transform image to array\n",
        "transformed_image = np.expand_dims(transformed_image, axis=0) # Expand dims to make a batch of 1 image\n",
        "prediction = model.predict(transformed_image)\n",
        "\n",
        "print(prediction)\n",
        "\n",
        "if prediction[0] < 0.5:\n",
        "  print(\"This tyre HAS a problem!\")\n",
        "else:\n",
        "  print(\"This tyre HASN'T problem!\")"
      ],
      "metadata": {
        "colab": {
          "base_uri": "https://localhost:8080/"
        },
        "id": "jsxibOcpFrcr",
        "outputId": "f860b784-3650-4a42-f88f-abfc90fb3510"
      },
      "execution_count": 24,
      "outputs": [
        {
          "output_type": "stream",
          "name": "stdout",
          "text": [
            "1/1 [==============================] - 0s 361ms/step\n",
            "[[0.98975486]]\n",
            "This tyre HASN'T problem!\n"
          ]
        }
      ]
    },
    {
      "cell_type": "code",
      "source": [],
      "metadata": {
        "id": "dH2Tix-8Gw13"
      },
      "execution_count": null,
      "outputs": []
    }
  ]
}