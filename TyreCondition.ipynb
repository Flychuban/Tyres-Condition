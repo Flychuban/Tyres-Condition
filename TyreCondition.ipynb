{
  "nbformat": 4,
  "nbformat_minor": 0,
  "metadata": {
    "colab": {
      "provenance": [],
      "gpuType": "T4",
      "mount_file_id": "1W7AZJ_cwNDYVtVKMwoxegajyhKvjyyTB",
      "authorship_tag": "ABX9TyPBUxV/WZkyOTZH7wBYTtB0",
      "include_colab_link": true
    },
    "kernelspec": {
      "name": "python3",
      "display_name": "Python 3"
    },
    "language_info": {
      "name": "python"
    },
    "accelerator": "GPU"
  },
  "cells": [
    {
      "cell_type": "markdown",
      "metadata": {
        "id": "view-in-github",
        "colab_type": "text"
      },
      "source": [
        "<a href=\"https://colab.research.google.com/github/Flychuban/Tyres-Condition/blob/main/TyreCondition.ipynb\" target=\"_parent\"><img src=\"https://colab.research.google.com/assets/colab-badge.svg\" alt=\"Open In Colab\"/></a>"
      ]
    },
    {
      "cell_type": "code",
      "execution_count": 2,
      "metadata": {
        "id": "uMIwvxX-HN6E"
      },
      "outputs": [],
      "source": [
        "from matplotlib import pyplot as plt\n",
        "import cv2\n",
        "import pandas as pd\n",
        "import numpy as np\n",
        "import glob\n",
        "from pathlib import Path\n",
        "import tensorflow as tf\n",
        "import os\n",
        "from tensorflow.keras.applications import ResNetRS50\n",
        "from tensorflow.keras.applications.resnet import preprocess_input\n",
        "from tensorflow.keras.preprocessing.image import ImageDataGenerator\n",
        "from tensorflow.keras.models import Model\n",
        "from tensorflow.keras.layers import Dense, Flatten, Dropout, Conv2D\n",
        "from tensorflow.keras.callbacks import EarlyStopping"
      ]
    },
    {
      "cell_type": "code",
      "source": [
        "train_path = Path('/content/drive/MyDrive/TyreConditionPrediction/data/Tire Textures/training_data')\n",
        "test_path = Path('/content/drive/MyDrive/TyreConditionPrediction/data/Tire Textures/testing_data')\n",
        "RANDOM_SEED = 10\n",
        "EPOCHS = 100\n",
        "BATCH_SIZE = 16"
      ],
      "metadata": {
        "id": "wIGKvG08O1oq"
      },
      "execution_count": 3,
      "outputs": []
    },
    {
      "cell_type": "code",
      "source": [
        "labels = os.listdir(train_path)\n",
        "labels"
      ],
      "metadata": {
        "id": "y9IlW1RoPu0Q",
        "colab": {
          "base_uri": "https://localhost:8080/"
        },
        "outputId": "d5b831c0-efa8-4c68-fc2e-7bad7776b76a"
      },
      "execution_count": 4,
      "outputs": [
        {
          "output_type": "execute_result",
          "data": {
            "text/plain": [
              "['normal', 'cracked']"
            ]
          },
          "metadata": {},
          "execution_count": 4
        }
      ]
    },
    {
      "cell_type": "markdown",
      "source": [
        "Let's make our dataset"
      ],
      "metadata": {
        "id": "ADEvfC37l1AV"
      }
    },
    {
      "cell_type": "code",
      "source": [
        "def process_data(data):\n",
        "  # creating instance of labelencoder\n",
        "\n",
        "  path = Path(data)\n",
        "  filepaths = list(path.glob(r'*/*.jpg'))\n",
        "  labels=list(map(lambda x: os.path.split(os.path.split(x)[0])[1],filepaths))#Separating the label from filepath and storing it\n",
        "\n",
        "  print(labels)\n",
        "  df1 = pd.Series(filepaths, name='filepaths').astype(str)\n",
        "  df2 = pd.Series(labels, name='labels')\n",
        "  df = pd.concat([df1, df2], axis=1)\n",
        "  return df"
      ],
      "metadata": {
        "id": "Yv2yzh7Vl0uD"
      },
      "execution_count": 5,
      "outputs": []
    },
    {
      "cell_type": "code",
      "source": [
        "train_data = process_data(train_path)\n",
        "test_data = process_data(test_path)\n",
        "train_data"
      ],
      "metadata": {
        "id": "jJLhzqYtlk8E",
        "colab": {
          "base_uri": "https://localhost:8080/",
          "height": 480
        },
        "outputId": "8217355b-8b5f-4ade-84bc-e611f38bb97e"
      },
      "execution_count": 6,
      "outputs": [
        {
          "output_type": "stream",
          "name": "stdout",
          "text": [
            "['normal', 'normal', 'normal', 'normal', 'normal', 'normal', 'normal', 'normal', 'normal', 'normal', 'normal', 'normal', 'normal', 'normal', 'normal', 'normal', 'normal', 'normal', 'normal', 'normal', 'normal', 'normal', 'normal', 'normal', 'normal', 'normal', 'normal', 'normal', 'normal', 'normal', 'normal', 'normal', 'normal', 'normal', 'normal', 'normal', 'normal', 'normal', 'normal', 'normal', 'normal', 'normal', 'normal', 'normal', 'normal', 'normal', 'normal', 'normal', 'normal', 'normal', 'normal', 'normal', 'normal', 'normal', 'normal', 'normal', 'normal', 'normal', 'normal', 'normal', 'normal', 'normal', 'normal', 'normal', 'normal', 'normal', 'normal', 'normal', 'normal', 'normal', 'normal', 'normal', 'normal', 'normal', 'normal', 'normal', 'normal', 'normal', 'normal', 'normal', 'normal', 'normal', 'normal', 'normal', 'normal', 'normal', 'normal', 'normal', 'normal', 'normal', 'normal', 'normal', 'normal', 'normal', 'normal', 'normal', 'normal', 'normal', 'normal', 'normal', 'normal', 'normal', 'normal', 'normal', 'normal', 'normal', 'normal', 'normal', 'normal', 'normal', 'normal', 'normal', 'normal', 'normal', 'normal', 'normal', 'normal', 'normal', 'normal', 'normal', 'normal', 'normal', 'normal', 'normal', 'normal', 'normal', 'normal', 'normal', 'normal', 'normal', 'normal', 'normal', 'normal', 'normal', 'normal', 'normal', 'normal', 'normal', 'normal', 'normal', 'normal', 'normal', 'normal', 'normal', 'normal', 'normal', 'normal', 'normal', 'normal', 'normal', 'normal', 'normal', 'normal', 'normal', 'normal', 'normal', 'normal', 'normal', 'normal', 'normal', 'normal', 'normal', 'normal', 'normal', 'normal', 'normal', 'normal', 'normal', 'normal', 'normal', 'normal', 'normal', 'normal', 'normal', 'normal', 'normal', 'normal', 'normal', 'normal', 'normal', 'normal', 'normal', 'normal', 'normal', 'normal', 'normal', 'normal', 'normal', 'normal', 'normal', 'normal', 'normal', 'normal', 'normal', 'normal', 'normal', 'normal', 'normal', 'normal', 'normal', 'normal', 'normal', 'normal', 'normal', 'normal', 'normal', 'normal', 'normal', 'normal', 'normal', 'normal', 'normal', 'normal', 'normal', 'normal', 'normal', 'normal', 'normal', 'normal', 'normal', 'normal', 'normal', 'normal', 'normal', 'normal', 'normal', 'normal', 'normal', 'normal', 'normal', 'normal', 'normal', 'normal', 'normal', 'normal', 'normal', 'normal', 'normal', 'normal', 'normal', 'normal', 'normal', 'normal', 'normal', 'normal', 'normal', 'normal', 'normal', 'normal', 'normal', 'normal', 'normal', 'normal', 'normal', 'normal', 'normal', 'normal', 'normal', 'normal', 'normal', 'normal', 'normal', 'normal', 'normal', 'normal', 'normal', 'normal', 'normal', 'normal', 'normal', 'normal', 'normal', 'normal', 'normal', 'normal', 'normal', 'normal', 'normal', 'normal', 'normal', 'normal', 'normal', 'normal', 'normal', 'normal', 'normal', 'normal', 'normal', 'normal', 'normal', 'normal', 'normal', 'normal', 'normal', 'normal', 'normal', 'normal', 'normal', 'normal', 'normal', 'normal', 'normal', 'normal', 'normal', 'normal', 'normal', 'normal', 'normal', 'normal', 'normal', 'normal', 'normal', 'normal', 'normal', 'normal', 'normal', 'normal', 'normal', 'normal', 'normal', 'normal', 'normal', 'normal', 'normal', 'normal', 'normal', 'normal', 'normal', 'normal', 'normal', 'normal', 'normal', 'normal', 'normal', 'normal', 'normal', 'normal', 'normal', 'normal', 'normal', 'normal', 'normal', 'normal', 'normal', 'normal', 'normal', 'normal', 'normal', 'normal', 'normal', 'normal', 'normal', 'normal', 'normal', 'normal', 'normal', 'normal', 'normal', 'normal', 'normal', 'normal', 'normal', 'normal', 'normal', 'normal', 'normal', 'normal', 'normal', 'normal', 'normal', 'normal', 'normal', 'normal', 'normal', 'normal', 'normal', 'cracked', 'cracked', 'cracked', 'cracked', 'cracked', 'cracked', 'cracked', 'cracked', 'cracked', 'cracked', 'cracked', 'cracked', 'cracked', 'cracked', 'cracked', 'cracked', 'cracked', 'cracked', 'cracked', 'cracked', 'cracked', 'cracked', 'cracked', 'cracked', 'cracked', 'cracked', 'cracked', 'cracked', 'cracked', 'cracked', 'cracked', 'cracked', 'cracked', 'cracked', 'cracked', 'cracked', 'cracked', 'cracked', 'cracked', 'cracked', 'cracked', 'cracked', 'cracked', 'cracked', 'cracked', 'cracked', 'cracked', 'cracked', 'cracked', 'cracked', 'cracked', 'cracked', 'cracked', 'cracked', 'cracked', 'cracked', 'cracked', 'cracked', 'cracked', 'cracked', 'cracked', 'cracked', 'cracked', 'cracked', 'cracked', 'cracked', 'cracked', 'cracked', 'cracked', 'cracked', 'cracked', 'cracked', 'cracked', 'cracked', 'cracked', 'cracked', 'cracked', 'cracked', 'cracked', 'cracked', 'cracked', 'cracked', 'cracked', 'cracked', 'cracked', 'cracked', 'cracked', 'cracked', 'cracked', 'cracked', 'cracked', 'cracked', 'cracked', 'cracked', 'cracked', 'cracked', 'cracked', 'cracked', 'cracked', 'cracked', 'cracked', 'cracked', 'cracked', 'cracked', 'cracked', 'cracked', 'cracked', 'cracked', 'cracked', 'cracked', 'cracked', 'cracked', 'cracked', 'cracked', 'cracked', 'cracked', 'cracked', 'cracked', 'cracked', 'cracked', 'cracked', 'cracked', 'cracked', 'cracked', 'cracked', 'cracked', 'cracked', 'cracked', 'cracked', 'cracked', 'cracked', 'cracked', 'cracked', 'cracked', 'cracked', 'cracked', 'cracked', 'cracked', 'cracked', 'cracked', 'cracked', 'cracked', 'cracked', 'cracked', 'cracked', 'cracked', 'cracked', 'cracked', 'cracked', 'cracked', 'cracked', 'cracked', 'cracked', 'cracked', 'cracked', 'cracked', 'cracked', 'cracked', 'cracked', 'cracked', 'cracked', 'cracked', 'cracked', 'cracked', 'cracked', 'cracked', 'cracked', 'cracked', 'cracked', 'cracked', 'cracked', 'cracked', 'cracked', 'cracked', 'cracked', 'cracked', 'cracked', 'cracked', 'cracked', 'cracked', 'cracked', 'cracked', 'cracked', 'cracked', 'cracked', 'cracked', 'cracked', 'cracked', 'cracked', 'cracked', 'cracked', 'cracked', 'cracked', 'cracked', 'cracked', 'cracked', 'cracked', 'cracked', 'cracked', 'cracked', 'cracked', 'cracked', 'cracked', 'cracked', 'cracked', 'cracked', 'cracked', 'cracked', 'cracked', 'cracked', 'cracked', 'cracked', 'cracked', 'cracked', 'cracked', 'cracked', 'cracked', 'cracked', 'cracked', 'cracked', 'cracked', 'cracked', 'cracked', 'cracked', 'cracked', 'cracked', 'cracked', 'cracked', 'cracked', 'cracked', 'cracked', 'cracked', 'cracked', 'cracked', 'cracked', 'cracked', 'cracked', 'cracked', 'cracked', 'cracked', 'cracked', 'cracked', 'cracked', 'cracked', 'cracked', 'cracked', 'cracked', 'cracked', 'cracked', 'cracked', 'cracked', 'cracked', 'cracked', 'cracked', 'cracked', 'cracked', 'cracked', 'cracked', 'cracked', 'cracked', 'cracked', 'cracked', 'cracked', 'cracked', 'cracked', 'cracked', 'cracked', 'cracked', 'cracked', 'cracked', 'cracked', 'cracked', 'cracked', 'cracked', 'cracked', 'cracked', 'cracked', 'cracked', 'cracked', 'cracked', 'cracked', 'cracked', 'cracked', 'cracked', 'cracked', 'cracked', 'cracked', 'cracked', 'cracked', 'cracked', 'cracked', 'cracked', 'cracked', 'cracked', 'cracked', 'cracked', 'cracked', 'cracked', 'cracked', 'cracked', 'cracked', 'cracked', 'cracked', 'cracked', 'cracked', 'cracked', 'cracked', 'cracked', 'cracked', 'cracked', 'cracked', 'cracked', 'cracked', 'cracked', 'cracked', 'cracked', 'cracked', 'cracked', 'cracked', 'cracked', 'cracked', 'cracked', 'cracked', 'cracked', 'cracked', 'cracked', 'cracked']\n",
            "['normal', 'normal', 'normal', 'normal', 'normal', 'normal', 'normal', 'normal', 'normal', 'normal', 'normal', 'normal', 'normal', 'normal', 'normal', 'normal', 'normal', 'normal', 'normal', 'normal', 'normal', 'normal', 'normal', 'normal', 'normal', 'normal', 'normal', 'normal', 'normal', 'normal', 'normal', 'normal', 'normal', 'normal', 'normal', 'normal', 'normal', 'normal', 'normal', 'normal', 'normal', 'normal', 'normal', 'normal', 'normal', 'normal', 'normal', 'normal', 'normal', 'normal', 'normal', 'normal', 'normal', 'normal', 'normal', 'normal', 'normal', 'normal', 'normal', 'normal', 'normal', 'normal', 'normal', 'normal', 'normal', 'normal', 'normal', 'normal', 'normal', 'normal', 'normal', 'normal', 'normal', 'normal', 'normal', 'normal', 'normal', 'normal', 'normal', 'normal', 'normal', 'normal', 'normal', 'normal', 'normal', 'normal', 'normal', 'normal', 'normal', 'normal', 'normal', 'normal', 'normal', 'normal', 'normal', 'normal', 'normal', 'normal', 'normal', 'normal', 'normal', 'normal', 'normal', 'normal', 'normal', 'normal', 'normal', 'normal', 'normal', 'normal', 'normal', 'normal', 'normal', 'normal', 'normal', 'cracked', 'cracked', 'cracked', 'cracked', 'cracked', 'cracked', 'cracked', 'cracked', 'cracked', 'cracked', 'cracked', 'cracked', 'cracked', 'cracked', 'cracked', 'cracked', 'cracked', 'cracked', 'cracked', 'cracked', 'cracked', 'cracked', 'cracked', 'cracked', 'cracked', 'cracked', 'cracked', 'cracked', 'cracked', 'cracked', 'cracked', 'cracked', 'cracked', 'cracked', 'cracked', 'cracked', 'cracked', 'cracked', 'cracked', 'cracked', 'cracked', 'cracked', 'cracked', 'cracked', 'cracked', 'cracked', 'cracked', 'cracked', 'cracked', 'cracked', 'cracked', 'cracked', 'cracked', 'cracked', 'cracked', 'cracked', 'cracked', 'cracked', 'cracked', 'cracked', 'cracked', 'cracked', 'cracked', 'cracked', 'cracked', 'cracked', 'cracked', 'cracked', 'cracked', 'cracked', 'cracked', 'cracked', 'cracked', 'cracked', 'cracked', 'cracked', 'cracked', 'cracked', 'cracked', 'cracked', 'cracked', 'cracked', 'cracked', 'cracked', 'cracked', 'cracked', 'cracked', 'cracked', 'cracked', 'cracked', 'cracked', 'cracked', 'cracked', 'cracked', 'cracked', 'cracked', 'cracked', 'cracked', 'cracked', 'cracked', 'cracked', 'cracked', 'cracked', 'cracked', 'cracked', 'cracked', 'cracked', 'cracked', 'cracked', 'cracked', 'cracked', 'cracked', 'cracked', 'cracked', 'cracked', 'cracked', 'cracked', 'cracked', 'cracked', 'cracked', 'cracked', 'cracked', 'cracked', 'cracked', 'cracked', 'cracked', 'cracked', 'cracked', 'cracked', 'cracked', 'cracked', 'cracked', 'cracked', 'cracked', 'cracked', 'cracked', 'cracked', 'cracked', 'cracked', 'cracked', 'cracked', 'cracked', 'cracked', 'cracked', 'cracked', 'cracked', 'cracked', 'cracked', 'cracked', 'cracked', 'cracked', 'cracked', 'cracked', 'cracked', 'cracked', 'cracked', 'cracked', 'cracked', 'cracked', 'cracked', 'cracked', 'cracked', 'cracked', 'cracked', 'cracked', 'cracked', 'cracked', 'cracked', 'cracked', 'cracked', 'cracked', 'cracked', 'cracked', 'cracked', 'cracked', 'cracked', 'cracked', 'cracked', 'cracked', 'cracked', 'cracked', 'cracked', 'cracked', 'cracked', 'cracked', 'cracked', 'cracked', 'cracked', 'cracked', 'cracked', 'cracked', 'cracked', 'cracked', 'cracked', 'cracked', 'cracked', 'cracked', 'cracked', 'cracked', 'cracked', 'cracked', 'cracked', 'cracked', 'cracked', 'cracked', 'cracked', 'cracked', 'cracked', 'cracked', 'cracked']\n"
          ]
        },
        {
          "output_type": "execute_result",
          "data": {
            "text/plain": [
              "                                             filepaths   labels\n",
              "0    /content/drive/MyDrive/TyreConditionPrediction...   normal\n",
              "1    /content/drive/MyDrive/TyreConditionPrediction...   normal\n",
              "2    /content/drive/MyDrive/TyreConditionPrediction...   normal\n",
              "3    /content/drive/MyDrive/TyreConditionPrediction...   normal\n",
              "4    /content/drive/MyDrive/TyreConditionPrediction...   normal\n",
              "..                                                 ...      ...\n",
              "698  /content/drive/MyDrive/TyreConditionPrediction...  cracked\n",
              "699  /content/drive/MyDrive/TyreConditionPrediction...  cracked\n",
              "700  /content/drive/MyDrive/TyreConditionPrediction...  cracked\n",
              "701  /content/drive/MyDrive/TyreConditionPrediction...  cracked\n",
              "702  /content/drive/MyDrive/TyreConditionPrediction...  cracked\n",
              "\n",
              "[703 rows x 2 columns]"
            ],
            "text/html": [
              "\n",
              "\n",
              "  <div id=\"df-1ff91985-0103-4111-a8a0-8c9928d81153\">\n",
              "    <div class=\"colab-df-container\">\n",
              "      <div>\n",
              "<style scoped>\n",
              "    .dataframe tbody tr th:only-of-type {\n",
              "        vertical-align: middle;\n",
              "    }\n",
              "\n",
              "    .dataframe tbody tr th {\n",
              "        vertical-align: top;\n",
              "    }\n",
              "\n",
              "    .dataframe thead th {\n",
              "        text-align: right;\n",
              "    }\n",
              "</style>\n",
              "<table border=\"1\" class=\"dataframe\">\n",
              "  <thead>\n",
              "    <tr style=\"text-align: right;\">\n",
              "      <th></th>\n",
              "      <th>filepaths</th>\n",
              "      <th>labels</th>\n",
              "    </tr>\n",
              "  </thead>\n",
              "  <tbody>\n",
              "    <tr>\n",
              "      <th>0</th>\n",
              "      <td>/content/drive/MyDrive/TyreConditionPrediction...</td>\n",
              "      <td>normal</td>\n",
              "    </tr>\n",
              "    <tr>\n",
              "      <th>1</th>\n",
              "      <td>/content/drive/MyDrive/TyreConditionPrediction...</td>\n",
              "      <td>normal</td>\n",
              "    </tr>\n",
              "    <tr>\n",
              "      <th>2</th>\n",
              "      <td>/content/drive/MyDrive/TyreConditionPrediction...</td>\n",
              "      <td>normal</td>\n",
              "    </tr>\n",
              "    <tr>\n",
              "      <th>3</th>\n",
              "      <td>/content/drive/MyDrive/TyreConditionPrediction...</td>\n",
              "      <td>normal</td>\n",
              "    </tr>\n",
              "    <tr>\n",
              "      <th>4</th>\n",
              "      <td>/content/drive/MyDrive/TyreConditionPrediction...</td>\n",
              "      <td>normal</td>\n",
              "    </tr>\n",
              "    <tr>\n",
              "      <th>...</th>\n",
              "      <td>...</td>\n",
              "      <td>...</td>\n",
              "    </tr>\n",
              "    <tr>\n",
              "      <th>698</th>\n",
              "      <td>/content/drive/MyDrive/TyreConditionPrediction...</td>\n",
              "      <td>cracked</td>\n",
              "    </tr>\n",
              "    <tr>\n",
              "      <th>699</th>\n",
              "      <td>/content/drive/MyDrive/TyreConditionPrediction...</td>\n",
              "      <td>cracked</td>\n",
              "    </tr>\n",
              "    <tr>\n",
              "      <th>700</th>\n",
              "      <td>/content/drive/MyDrive/TyreConditionPrediction...</td>\n",
              "      <td>cracked</td>\n",
              "    </tr>\n",
              "    <tr>\n",
              "      <th>701</th>\n",
              "      <td>/content/drive/MyDrive/TyreConditionPrediction...</td>\n",
              "      <td>cracked</td>\n",
              "    </tr>\n",
              "    <tr>\n",
              "      <th>702</th>\n",
              "      <td>/content/drive/MyDrive/TyreConditionPrediction...</td>\n",
              "      <td>cracked</td>\n",
              "    </tr>\n",
              "  </tbody>\n",
              "</table>\n",
              "<p>703 rows × 2 columns</p>\n",
              "</div>\n",
              "      <button class=\"colab-df-convert\" onclick=\"convertToInteractive('df-1ff91985-0103-4111-a8a0-8c9928d81153')\"\n",
              "              title=\"Convert this dataframe to an interactive table.\"\n",
              "              style=\"display:none;\">\n",
              "\n",
              "  <svg xmlns=\"http://www.w3.org/2000/svg\" height=\"24px\"viewBox=\"0 0 24 24\"\n",
              "       width=\"24px\">\n",
              "    <path d=\"M0 0h24v24H0V0z\" fill=\"none\"/>\n",
              "    <path d=\"M18.56 5.44l.94 2.06.94-2.06 2.06-.94-2.06-.94-.94-2.06-.94 2.06-2.06.94zm-11 1L8.5 8.5l.94-2.06 2.06-.94-2.06-.94L8.5 2.5l-.94 2.06-2.06.94zm10 10l.94 2.06.94-2.06 2.06-.94-2.06-.94-.94-2.06-.94 2.06-2.06.94z\"/><path d=\"M17.41 7.96l-1.37-1.37c-.4-.4-.92-.59-1.43-.59-.52 0-1.04.2-1.43.59L10.3 9.45l-7.72 7.72c-.78.78-.78 2.05 0 2.83L4 21.41c.39.39.9.59 1.41.59.51 0 1.02-.2 1.41-.59l7.78-7.78 2.81-2.81c.8-.78.8-2.07 0-2.86zM5.41 20L4 18.59l7.72-7.72 1.47 1.35L5.41 20z\"/>\n",
              "  </svg>\n",
              "      </button>\n",
              "\n",
              "\n",
              "\n",
              "    <div id=\"df-6028eda0-e8cf-4cdc-b674-9147de8b678f\">\n",
              "      <button class=\"colab-df-quickchart\" onclick=\"quickchart('df-6028eda0-e8cf-4cdc-b674-9147de8b678f')\"\n",
              "              title=\"Suggest charts.\"\n",
              "              style=\"display:none;\">\n",
              "\n",
              "<svg xmlns=\"http://www.w3.org/2000/svg\" height=\"24px\"viewBox=\"0 0 24 24\"\n",
              "     width=\"24px\">\n",
              "    <g>\n",
              "        <path d=\"M19 3H5c-1.1 0-2 .9-2 2v14c0 1.1.9 2 2 2h14c1.1 0 2-.9 2-2V5c0-1.1-.9-2-2-2zM9 17H7v-7h2v7zm4 0h-2V7h2v10zm4 0h-2v-4h2v4z\"/>\n",
              "    </g>\n",
              "</svg>\n",
              "      </button>\n",
              "    </div>\n",
              "\n",
              "<style>\n",
              "  .colab-df-quickchart {\n",
              "    background-color: #E8F0FE;\n",
              "    border: none;\n",
              "    border-radius: 50%;\n",
              "    cursor: pointer;\n",
              "    display: none;\n",
              "    fill: #1967D2;\n",
              "    height: 32px;\n",
              "    padding: 0 0 0 0;\n",
              "    width: 32px;\n",
              "  }\n",
              "\n",
              "  .colab-df-quickchart:hover {\n",
              "    background-color: #E2EBFA;\n",
              "    box-shadow: 0px 1px 2px rgba(60, 64, 67, 0.3), 0px 1px 3px 1px rgba(60, 64, 67, 0.15);\n",
              "    fill: #174EA6;\n",
              "  }\n",
              "\n",
              "  [theme=dark] .colab-df-quickchart {\n",
              "    background-color: #3B4455;\n",
              "    fill: #D2E3FC;\n",
              "  }\n",
              "\n",
              "  [theme=dark] .colab-df-quickchart:hover {\n",
              "    background-color: #434B5C;\n",
              "    box-shadow: 0px 1px 3px 1px rgba(0, 0, 0, 0.15);\n",
              "    filter: drop-shadow(0px 1px 2px rgba(0, 0, 0, 0.3));\n",
              "    fill: #FFFFFF;\n",
              "  }\n",
              "</style>\n",
              "\n",
              "    <script>\n",
              "      async function quickchart(key) {\n",
              "        const containerElement = document.querySelector('#' + key);\n",
              "        const charts = await google.colab.kernel.invokeFunction(\n",
              "            'suggestCharts', [key], {});\n",
              "      }\n",
              "    </script>\n",
              "\n",
              "      <script>\n",
              "\n",
              "function displayQuickchartButton(domScope) {\n",
              "  let quickchartButtonEl =\n",
              "    domScope.querySelector('#df-6028eda0-e8cf-4cdc-b674-9147de8b678f button.colab-df-quickchart');\n",
              "  quickchartButtonEl.style.display =\n",
              "    google.colab.kernel.accessAllowed ? 'block' : 'none';\n",
              "}\n",
              "\n",
              "        displayQuickchartButton(document);\n",
              "      </script>\n",
              "      <style>\n",
              "    .colab-df-container {\n",
              "      display:flex;\n",
              "      flex-wrap:wrap;\n",
              "      gap: 12px;\n",
              "    }\n",
              "\n",
              "    .colab-df-convert {\n",
              "      background-color: #E8F0FE;\n",
              "      border: none;\n",
              "      border-radius: 50%;\n",
              "      cursor: pointer;\n",
              "      display: none;\n",
              "      fill: #1967D2;\n",
              "      height: 32px;\n",
              "      padding: 0 0 0 0;\n",
              "      width: 32px;\n",
              "    }\n",
              "\n",
              "    .colab-df-convert:hover {\n",
              "      background-color: #E2EBFA;\n",
              "      box-shadow: 0px 1px 2px rgba(60, 64, 67, 0.3), 0px 1px 3px 1px rgba(60, 64, 67, 0.15);\n",
              "      fill: #174EA6;\n",
              "    }\n",
              "\n",
              "    [theme=dark] .colab-df-convert {\n",
              "      background-color: #3B4455;\n",
              "      fill: #D2E3FC;\n",
              "    }\n",
              "\n",
              "    [theme=dark] .colab-df-convert:hover {\n",
              "      background-color: #434B5C;\n",
              "      box-shadow: 0px 1px 3px 1px rgba(0, 0, 0, 0.15);\n",
              "      filter: drop-shadow(0px 1px 2px rgba(0, 0, 0, 0.3));\n",
              "      fill: #FFFFFF;\n",
              "    }\n",
              "  </style>\n",
              "\n",
              "      <script>\n",
              "        const buttonEl =\n",
              "          document.querySelector('#df-1ff91985-0103-4111-a8a0-8c9928d81153 button.colab-df-convert');\n",
              "        buttonEl.style.display =\n",
              "          google.colab.kernel.accessAllowed ? 'block' : 'none';\n",
              "\n",
              "        async function convertToInteractive(key) {\n",
              "          const element = document.querySelector('#df-1ff91985-0103-4111-a8a0-8c9928d81153');\n",
              "          const dataTable =\n",
              "            await google.colab.kernel.invokeFunction('convertToInteractive',\n",
              "                                                     [key], {});\n",
              "          if (!dataTable) return;\n",
              "\n",
              "          const docLinkHtml = 'Like what you see? Visit the ' +\n",
              "            '<a target=\"_blank\" href=https://colab.research.google.com/notebooks/data_table.ipynb>data table notebook</a>'\n",
              "            + ' to learn more about interactive tables.';\n",
              "          element.innerHTML = '';\n",
              "          dataTable['output_type'] = 'display_data';\n",
              "          await google.colab.output.renderOutput(dataTable, element);\n",
              "          const docLink = document.createElement('div');\n",
              "          docLink.innerHTML = docLinkHtml;\n",
              "          element.appendChild(docLink);\n",
              "        }\n",
              "      </script>\n",
              "    </div>\n",
              "  </div>\n"
            ]
          },
          "metadata": {},
          "execution_count": 6
        }
      ]
    },
    {
      "cell_type": "code",
      "source": [
        "train_generator = ImageDataGenerator(preprocessing_function=preprocess_input,\n",
        "                                   rotation_range=5,  # rotation\n",
        "                                   width_shift_range=0.2,  # horizontal shift\n",
        "                                   zoom_range=0.2,  # zoom\n",
        "                                   horizontal_flip=True,  # horizontal flip\n",
        "                                   brightness_range=[0.2,0.8],)\n",
        "\n",
        "test_generator = ImageDataGenerator(preprocessing_function=preprocess_input,\n",
        "                                  rotation_range=5,  # rotation\n",
        "                                   width_shift_range=0.2,  # horizontal shift\n",
        "                                   zoom_range=0.2,  # zoom\n",
        "                                   horizontal_flip=True,  # horizontal flip\n",
        "                                   brightness_range=[0.2,0.8],\n",
        "                                    validation_split=0.5)"
      ],
      "metadata": {
        "id": "_7OGEe6Bnejk"
      },
      "execution_count": 7,
      "outputs": []
    },
    {
      "cell_type": "code",
      "source": [
        "train_images = train_generator.flow_from_dataframe(dataframe=train_data,\n",
        "                                                   target_size=(224, 224),\n",
        "                                                   batch_size = BATCH_SIZE,\n",
        "                                                   x_col='filepaths',\n",
        "                                                   y_col='labels',\n",
        "                                                   class_mode='binary',\n",
        "                                                   random_seed=RANDOM_SEED)\n",
        "\n",
        "test_images = test_generator.flow_from_dataframe(dataframe=test_data,\n",
        "                                                 target_size=(224, 224),\n",
        "                                                 batch_size=BATCH_SIZE,\n",
        "                                                 x_col='filepaths',\n",
        "                                                 y_col = 'labels',\n",
        "                                                 class_mode='binary',\n",
        "                                                 random_seed = RANDOM_SEED,\n",
        "                                                 subset='training'\n",
        "                                                 )\n",
        "\n",
        "val_images = test_generator.flow_from_dataframe(dataframe=test_data,\n",
        "                                                   target_size=(224, 224),\n",
        "                                                   batch_size = BATCH_SIZE,\n",
        "                                                   x_col='filepaths',\n",
        "                                                   y_col='labels',\n",
        "                                                   class_mode='binary',\n",
        "                                                   random_seed=RANDOM_SEED,\n",
        "                                                   subset=\"validation\"\n",
        "                                                )\n"
      ],
      "metadata": {
        "id": "mPhAgmzyouP6",
        "colab": {
          "base_uri": "https://localhost:8080/"
        },
        "outputId": "bbeff4ec-0a41-43b4-ceec-051703dc046a"
      },
      "execution_count": 8,
      "outputs": [
        {
          "output_type": "stream",
          "name": "stdout",
          "text": [
            "Found 703 validated image filenames belonging to 2 classes.\n",
            "Found 163 validated image filenames belonging to 2 classes.\n",
            "Found 162 validated image filenames belonging to 2 classes.\n"
          ]
        }
      ]
    },
    {
      "cell_type": "markdown",
      "source": [
        "Build the model"
      ],
      "metadata": {
        "id": "ThLy0IWgtEN5"
      }
    },
    {
      "cell_type": "code",
      "source": [
        "pretrained_model = ResNetRS50(\n",
        "    input_shape=(224, 224, 3),\n",
        "    include_top=False,\n",
        "    weights = 'imagenet',\n",
        "    pooling='max'\n",
        ")"
      ],
      "metadata": {
        "id": "G48n7LJZpjEM",
        "colab": {
          "base_uri": "https://localhost:8080/"
        },
        "outputId": "6b826f41-a0ad-4e24-f7df-ff76db5f6028"
      },
      "execution_count": 9,
      "outputs": [
        {
          "output_type": "stream",
          "name": "stdout",
          "text": [
            "Downloading data from https://storage.googleapis.com/tensorflow/keras-applications/resnet_rs/resnet-rs-50-i160_notop.h5\n",
            "135360144/135360144 [==============================] - 1s 0us/step\n"
          ]
        }
      ]
    },
    {
      "cell_type": "code",
      "source": [
        "pretrained_model.trainable = False # we make this cuz w don't train again the big model"
      ],
      "metadata": {
        "id": "0yfR_c9Atuwj"
      },
      "execution_count": 10,
      "outputs": []
    },
    {
      "cell_type": "code",
      "source": [
        "inputs = pretrained_model.input\n",
        "\n",
        "new_layer = Dense(60, activation='relu')(pretrained_model.output)\n",
        "Dropout(0.15)\n",
        "new_layer = Dense(90, activation='relu')(new_layer)\n",
        "Dropout(0.3)\n",
        "new_layer = Dense(120, activation ='relu')(new_layer)\n",
        "\n",
        "outputs = Dense(1, activation = 'sigmoid')(new_layer)"
      ],
      "metadata": {
        "id": "PR3s4qb5t7y4"
      },
      "execution_count": 11,
      "outputs": []
    },
    {
      "cell_type": "code",
      "source": [
        "model = Model(inputs=inputs, outputs=outputs)"
      ],
      "metadata": {
        "id": "qwXoYoFTvH8K"
      },
      "execution_count": 12,
      "outputs": []
    },
    {
      "cell_type": "code",
      "source": [
        "\n",
        "model.compile(optimizer='adam',\n",
        "              loss='binary_crossentropy',\n",
        "              metrics=['accuracy']\n",
        ")"
      ],
      "metadata": {
        "id": "9kCxCBgtvRRT"
      },
      "execution_count": 13,
      "outputs": []
    },
    {
      "cell_type": "code",
      "source": [
        "early_stop = EarlyStopping(monitor='val_loss',patience=15)"
      ],
      "metadata": {
        "id": "KoNsqj2aufh6"
      },
      "execution_count": 14,
      "outputs": []
    },
    {
      "cell_type": "markdown",
      "source": [
        "Training"
      ],
      "metadata": {
        "id": "oz1LU1fEv08Z"
      }
    },
    {
      "cell_type": "code",
      "source": [
        "history = model.fit(train_images,\n",
        "                    epochs=100,\n",
        "                    steps_per_epoch=len(train_images),\n",
        "                    validation_data=val_images,\n",
        "                    validation_steps=len(val_images),\n",
        "                    callbacks=[early_stop]\n",
        "                    )"
      ],
      "metadata": {
        "id": "FEBldWbGvrub",
        "colab": {
          "base_uri": "https://localhost:8080/"
        },
        "outputId": "17483f2c-4fd7-4f61-c0a7-7ec9c31cc6df"
      },
      "execution_count": 15,
      "outputs": [
        {
          "output_type": "stream",
          "name": "stdout",
          "text": [
            "Epoch 1/100\n",
            "44/44 [==============================] - 208s 4s/step - loss: 0.5378 - accuracy: 0.7326 - val_loss: 0.8553 - val_accuracy: 0.5679\n",
            "Epoch 2/100\n",
            "44/44 [==============================] - 57s 1s/step - loss: 0.4592 - accuracy: 0.7752 - val_loss: 0.4439 - val_accuracy: 0.8025\n",
            "Epoch 3/100\n",
            "44/44 [==============================] - 58s 1s/step - loss: 0.3361 - accuracy: 0.8535 - val_loss: 0.6778 - val_accuracy: 0.6605\n",
            "Epoch 4/100\n",
            "44/44 [==============================] - 55s 1s/step - loss: 0.3514 - accuracy: 0.8450 - val_loss: 0.3978 - val_accuracy: 0.8519\n",
            "Epoch 5/100\n",
            "44/44 [==============================] - 63s 1s/step - loss: 0.2813 - accuracy: 0.8777 - val_loss: 0.4372 - val_accuracy: 0.8086\n",
            "Epoch 6/100\n",
            "44/44 [==============================] - 58s 1s/step - loss: 0.3061 - accuracy: 0.8592 - val_loss: 0.4136 - val_accuracy: 0.8210\n",
            "Epoch 7/100\n",
            "44/44 [==============================] - 56s 1s/step - loss: 0.2964 - accuracy: 0.8834 - val_loss: 0.3723 - val_accuracy: 0.8025\n",
            "Epoch 8/100\n",
            "44/44 [==============================] - 55s 1s/step - loss: 0.2775 - accuracy: 0.8933 - val_loss: 0.4944 - val_accuracy: 0.8272\n",
            "Epoch 9/100\n",
            "44/44 [==============================] - 58s 1s/step - loss: 0.3040 - accuracy: 0.8563 - val_loss: 0.5215 - val_accuracy: 0.7840\n",
            "Epoch 10/100\n",
            "44/44 [==============================] - 56s 1s/step - loss: 0.2816 - accuracy: 0.8734 - val_loss: 0.5245 - val_accuracy: 0.7901\n",
            "Epoch 11/100\n",
            "44/44 [==============================] - 55s 1s/step - loss: 0.3055 - accuracy: 0.8748 - val_loss: 0.3938 - val_accuracy: 0.8395\n",
            "Epoch 12/100\n",
            "44/44 [==============================] - 57s 1s/step - loss: 0.2361 - accuracy: 0.8990 - val_loss: 0.5407 - val_accuracy: 0.8333\n",
            "Epoch 13/100\n",
            "44/44 [==============================] - 55s 1s/step - loss: 0.2538 - accuracy: 0.8905 - val_loss: 0.5400 - val_accuracy: 0.7284\n",
            "Epoch 14/100\n",
            "44/44 [==============================] - 62s 1s/step - loss: 0.2348 - accuracy: 0.8905 - val_loss: 0.4556 - val_accuracy: 0.8086\n",
            "Epoch 15/100\n",
            "44/44 [==============================] - 56s 1s/step - loss: 0.2258 - accuracy: 0.8990 - val_loss: 0.4222 - val_accuracy: 0.8519\n",
            "Epoch 16/100\n",
            "44/44 [==============================] - 55s 1s/step - loss: 0.1976 - accuracy: 0.9189 - val_loss: 0.4545 - val_accuracy: 0.8519\n",
            "Epoch 17/100\n",
            "44/44 [==============================] - 55s 1s/step - loss: 0.2009 - accuracy: 0.9147 - val_loss: 0.4450 - val_accuracy: 0.8457\n",
            "Epoch 18/100\n",
            "44/44 [==============================] - 55s 1s/step - loss: 0.2202 - accuracy: 0.8976 - val_loss: 0.5972 - val_accuracy: 0.7407\n",
            "Epoch 19/100\n",
            "44/44 [==============================] - 57s 1s/step - loss: 0.2655 - accuracy: 0.8890 - val_loss: 0.4385 - val_accuracy: 0.8148\n",
            "Epoch 20/100\n",
            "44/44 [==============================] - 56s 1s/step - loss: 0.2286 - accuracy: 0.9018 - val_loss: 0.4178 - val_accuracy: 0.8519\n",
            "Epoch 21/100\n",
            "44/44 [==============================] - 57s 1s/step - loss: 0.1958 - accuracy: 0.9175 - val_loss: 0.4404 - val_accuracy: 0.7716\n",
            "Epoch 22/100\n",
            "44/44 [==============================] - 59s 1s/step - loss: 0.2425 - accuracy: 0.8905 - val_loss: 0.5622 - val_accuracy: 0.8395\n"
          ]
        }
      ]
    },
    {
      "cell_type": "code",
      "source": [
        "def plotLearningCurve(history,epochs):\n",
        "  epochRange = range(1,epochs+1)\n",
        "  plt.plot(epochRange,history.history['accuracy'])\n",
        "  plt.plot(epochRange,history.history['val_accuracy'])\n",
        "  plt.title('Model Accuracy')\n",
        "  plt.xlabel('Epoch')\n",
        "  plt.ylabel('Accuracy')\n",
        "  plt.legend(['Train','Validation'],loc='upper left')\n",
        "  plt.show()\n",
        "\n",
        "  plt.plot(epochRange,history.history['loss'])\n",
        "  plt.plot(epochRange,history.history['val_loss'])\n",
        "  plt.title('Model Loss')\n",
        "  plt.xlabel('Epoch')\n",
        "  plt.ylabel('Loss')\n",
        "  plt.legend(['Train','Validation'],loc='upper left')\n",
        "  plt.show()"
      ],
      "metadata": {
        "id": "yFJwKoxUwIQJ"
      },
      "execution_count": 16,
      "outputs": []
    },
    {
      "cell_type": "code",
      "source": [
        "plotLearningCurve(history,22)"
      ],
      "metadata": {
        "colab": {
          "base_uri": "https://localhost:8080/",
          "height": 927
        },
        "id": "p16bw4gW-MA-",
        "outputId": "1b7add2a-7176-484f-f505-d6ba45c37fd8"
      },
      "execution_count": 18,
      "outputs": [
        {
          "output_type": "display_data",
          "data": {
            "text/plain": [
              "<Figure size 640x480 with 1 Axes>"
            ],
            "image/png": "[encoded data removed]"
          },
          "metadata": {}
        },
        {
          "output_type": "display_data",
          "data": {
            "text/plain": [
              "<Figure size 640x480 with 1 Axes>"
            ],
            "image/png": "[encoded data removed]"
          },
          "metadata": {}
        }
      ]
    },
    {
      "cell_type": "code",
      "source": [
        "model.evaluate(test_images)"
      ],
      "metadata": {
        "id": "ZiGsFrpK56cP",
        "colab": {
          "base_uri": "https://localhost:8080/"
        },
        "outputId": "5b528ae8-6c14-40bc-a2b5-ae1939533bcb"
      },
      "execution_count": 19,
      "outputs": [
        {
          "output_type": "stream",
          "name": "stdout",
          "text": [
            "11/11 [==============================] - 15s 1s/step - loss: 2.9272 - accuracy: 0.2331\n"
          ]
        },
        {
          "output_type": "execute_result",
          "data": {
            "text/plain": [
              "[2.927156686782837, 0.23312883079051971]"
            ]
          },
          "metadata": {},
          "execution_count": 19
        }
      ]
    },
    {
      "cell_type": "code",
      "source": [
        "model.save(\"tyre_condition_model_6.h5\")"
      ],
      "metadata": {
        "id": "2XmNyFSd6J6B"
      },
      "execution_count": null,
      "outputs": []
    },
    {
      "cell_type": "code",
      "source": [
        "model = tf.keras.models.load_model('/content/drive/MyDrive/TyreConditionPrediction/tyre_condition_model_4.h5')"
      ],
      "metadata": {
        "id": "AzwhA90V69CL",
        "colab": {
          "base_uri": "https://localhost:8080/",
          "height": 323
        },
        "outputId": "2f8b19b9-62ed-444f-d5a3-0f353877980e"
      },
      "execution_count": 28,
      "outputs": [
        {
          "output_type": "error",
          "ename": "KeyboardInterrupt",
          "evalue": "ignored",
          "traceback": [
            "\u001b[0;31m---------------------------------------------------------------------------\u001b[0m",
            "\u001b[0;31mKeyboardInterrupt\u001b[0m                         Traceback (most recent call last)",
            "\u001b[0;32m<ipython-input-28-d1dec3c02688>\u001b[0m in \u001b[0;36m<cell line: 1>\u001b[0;34m()\u001b[0m\n\u001b[0;32m----> 1\u001b[0;31m \u001b[0mmodel\u001b[0m \u001b[0;34m=\u001b[0m \u001b[0mtf\u001b[0m\u001b[0;34m.\u001b[0m\u001b[0mkeras\u001b[0m\u001b[0;34m.\u001b[0m\u001b[0mmodels\u001b[0m\u001b[0;34m.\u001b[0m\u001b[0mload_model\u001b[0m\u001b[0;34m(\u001b[0m\u001b[0;34m'/content/drive/MyDrive/TyreConditionPrediction/tyre_condition_model_4.h5'\u001b[0m\u001b[0;34m)\u001b[0m\u001b[0;34m\u001b[0m\u001b[0;34m\u001b[0m\u001b[0m\n\u001b[0m",
            "\u001b[0;32m/usr/local/lib/python3.10/dist-packages/keras/saving/saving_api.py\u001b[0m in \u001b[0;36mload_model\u001b[0;34m(filepath, custom_objects, compile, safe_mode, **kwargs)\u001b[0m\n\u001b[1;32m    210\u001b[0m \u001b[0;34m\u001b[0m\u001b[0m\n\u001b[1;32m    211\u001b[0m     \u001b[0;31m# Legacy case.\u001b[0m\u001b[0;34m\u001b[0m\u001b[0;34m\u001b[0m\u001b[0m\n\u001b[0;32m--> 212\u001b[0;31m     return legacy_sm_saving_lib.load_model(\n\u001b[0m\u001b[1;32m    213\u001b[0m         \u001b[0mfilepath\u001b[0m\u001b[0;34m,\u001b[0m \u001b[0mcustom_objects\u001b[0m\u001b[0;34m=\u001b[0m\u001b[0mcustom_objects\u001b[0m\u001b[0;34m,\u001b[0m \u001b[0mcompile\u001b[0m\u001b[0;34m=\u001b[0m\u001b[0mcompile\u001b[0m\u001b[0;34m,\u001b[0m \u001b[0;34m**\u001b[0m\u001b[0mkwargs\u001b[0m\u001b[0;34m\u001b[0m\u001b[0;34m\u001b[0m\u001b[0m\n\u001b[1;32m    214\u001b[0m     )\n",
            "\u001b[0;32m/usr/local/lib/python3.10/dist-packages/keras/utils/traceback_utils.py\u001b[0m in \u001b[0;36merror_handler\u001b[0;34m(*args, **kwargs)\u001b[0m\n\u001b[1;32m     63\u001b[0m         \u001b[0mfiltered_tb\u001b[0m \u001b[0;34m=\u001b[0m \u001b[0;32mNone\u001b[0m\u001b[0;34m\u001b[0m\u001b[0;34m\u001b[0m\u001b[0m\n\u001b[1;32m     64\u001b[0m         \u001b[0;32mtry\u001b[0m\u001b[0;34m:\u001b[0m\u001b[0;34m\u001b[0m\u001b[0;34m\u001b[0m\u001b[0m\n\u001b[0;32m---> 65\u001b[0;31m             \u001b[0;32mreturn\u001b[0m \u001b[0mfn\u001b[0m\u001b[0;34m(\u001b[0m\u001b[0;34m*\u001b[0m\u001b[0margs\u001b[0m\u001b[0;34m,\u001b[0m \u001b[0;34m**\u001b[0m\u001b[0mkwargs\u001b[0m\u001b[0;34m)\u001b[0m\u001b[0;34m\u001b[0m\u001b[0;34m\u001b[0m\u001b[0m\n\u001b[0m\u001b[1;32m     66\u001b[0m         \u001b[0;32mexcept\u001b[0m \u001b[0mException\u001b[0m \u001b[0;32mas\u001b[0m \u001b[0me\u001b[0m\u001b[0;34m:\u001b[0m\u001b[0;34m\u001b[0m\u001b[0;34m\u001b[0m\u001b[0m\n\u001b[1;32m     67\u001b[0m             \u001b[0mfiltered_tb\u001b[0m \u001b[0;34m=\u001b[0m \u001b[0m_process_traceback_frames\u001b[0m\u001b[0;34m(\u001b[0m\u001b[0me\u001b[0m\u001b[0;34m.\u001b[0m\u001b[0m__traceback__\u001b[0m\u001b[0;34m)\u001b[0m\u001b[0;34m\u001b[0m\u001b[0;34m\u001b[0m\u001b[0m\n",
            "\u001b[0;32m/usr/local/lib/python3.10/dist-packages/keras/saving/legacy/save.py\u001b[0m in \u001b[0;36mload_model\u001b[0;34m(filepath, custom_objects, compile, options)\u001b[0m\n\u001b[1;32m    243\u001b[0m                                     \u001b[0;34mf\" filepath={filepath_str}\"\u001b[0m\u001b[0;34m\u001b[0m\u001b[0;34m\u001b[0m\u001b[0m\n\u001b[1;32m    244\u001b[0m                                 )\n\u001b[0;32m--> 245\u001b[0;31m                             return hdf5_format.load_model_from_hdf5(\n\u001b[0m\u001b[1;32m    246\u001b[0m                                 \u001b[0mtf\u001b[0m\u001b[0;34m.\u001b[0m\u001b[0mio\u001b[0m\u001b[0;34m.\u001b[0m\u001b[0mgfile\u001b[0m\u001b[0;34m.\u001b[0m\u001b[0mGFile\u001b[0m\u001b[0;34m(\u001b[0m\u001b[0mfilepath_str\u001b[0m\u001b[0;34m,\u001b[0m \u001b[0mmode\u001b[0m\u001b[0;34m=\u001b[0m\u001b[0;34m\"rb\"\u001b[0m\u001b[0;34m)\u001b[0m\u001b[0;34m,\u001b[0m\u001b[0;34m\u001b[0m\u001b[0;34m\u001b[0m\u001b[0m\n\u001b[1;32m    247\u001b[0m                                 \u001b[0mcustom_objects\u001b[0m\u001b[0;34m,\u001b[0m\u001b[0;34m\u001b[0m\u001b[0;34m\u001b[0m\u001b[0m\n",
            "\u001b[0;32m/usr/local/lib/python3.10/dist-packages/keras/saving/legacy/hdf5_format.py\u001b[0m in \u001b[0;36mload_model_from_hdf5\u001b[0;34m(filepath, custom_objects, compile)\u001b[0m\n\u001b[1;32m    190\u001b[0m             \u001b[0mmodel_config\u001b[0m \u001b[0;34m=\u001b[0m \u001b[0mmodel_config\u001b[0m\u001b[0;34m.\u001b[0m\u001b[0mdecode\u001b[0m\u001b[0;34m(\u001b[0m\u001b[0;34m\"utf-8\"\u001b[0m\u001b[0;34m)\u001b[0m\u001b[0;34m\u001b[0m\u001b[0;34m\u001b[0m\u001b[0m\n\u001b[1;32m    191\u001b[0m         \u001b[0mmodel_config\u001b[0m \u001b[0;34m=\u001b[0m \u001b[0mjson_utils\u001b[0m\u001b[0;34m.\u001b[0m\u001b[0mdecode\u001b[0m\u001b[0;34m(\u001b[0m\u001b[0mmodel_config\u001b[0m\u001b[0;34m)\u001b[0m\u001b[0;34m\u001b[0m\u001b[0;34m\u001b[0m\u001b[0m\n\u001b[0;32m--> 192\u001b[0;31m         model = model_config_lib.model_from_config(\n\u001b[0m\u001b[1;32m    193\u001b[0m             \u001b[0mmodel_config\u001b[0m\u001b[0;34m,\u001b[0m \u001b[0mcustom_objects\u001b[0m\u001b[0;34m=\u001b[0m\u001b[0mcustom_objects\u001b[0m\u001b[0;34m\u001b[0m\u001b[0;34m\u001b[0m\u001b[0m\n\u001b[1;32m    194\u001b[0m         )\n",
            "\u001b[0;32m/usr/local/lib/python3.10/dist-packages/keras/saving/legacy/model_config.py\u001b[0m in \u001b[0;36mmodel_from_config\u001b[0;34m(config, custom_objects)\u001b[0m\n\u001b[1;32m     53\u001b[0m     \u001b[0;32mfrom\u001b[0m \u001b[0mkeras\u001b[0m\u001b[0;34m.\u001b[0m\u001b[0mlayers\u001b[0m \u001b[0;32mimport\u001b[0m \u001b[0mdeserialize\u001b[0m\u001b[0;34m\u001b[0m\u001b[0;34m\u001b[0m\u001b[0m\n\u001b[1;32m     54\u001b[0m \u001b[0;34m\u001b[0m\u001b[0m\n\u001b[0;32m---> 55\u001b[0;31m     \u001b[0;32mreturn\u001b[0m \u001b[0mdeserialize\u001b[0m\u001b[0;34m(\u001b[0m\u001b[0mconfig\u001b[0m\u001b[0;34m,\u001b[0m \u001b[0mcustom_objects\u001b[0m\u001b[0;34m=\u001b[0m\u001b[0mcustom_objects\u001b[0m\u001b[0;34m)\u001b[0m\u001b[0;34m\u001b[0m\u001b[0;34m\u001b[0m\u001b[0m\n\u001b[0m\u001b[1;32m     56\u001b[0m \u001b[0;34m\u001b[0m\u001b[0m\n\u001b[1;32m     57\u001b[0m \u001b[0;34m\u001b[0m\u001b[0m\n",
            "\u001b[0;32m/usr/local/lib/python3.10/dist-packages/keras/layers/serialization.py\u001b[0m in \u001b[0;36mdeserialize\u001b[0;34m(config, custom_objects, use_legacy_format)\u001b[0m\n\u001b[1;32m    263\u001b[0m \u001b[0;34m\u001b[0m\u001b[0m\n\u001b[1;32m    264\u001b[0m     \u001b[0;31m# To be replaced by new serialization_lib\u001b[0m\u001b[0;34m\u001b[0m\u001b[0;34m\u001b[0m\u001b[0m\n\u001b[0;32m--> 265\u001b[0;31m     return legacy_serialization.deserialize_keras_object(\n\u001b[0m\u001b[1;32m    266\u001b[0m         \u001b[0mconfig\u001b[0m\u001b[0;34m,\u001b[0m\u001b[0;34m\u001b[0m\u001b[0;34m\u001b[0m\u001b[0m\n\u001b[1;32m    267\u001b[0m         \u001b[0mmodule_objects\u001b[0m\u001b[0;34m=\u001b[0m\u001b[0mLOCAL\u001b[0m\u001b[0;34m.\u001b[0m\u001b[0mALL_OBJECTS\u001b[0m\u001b[0;34m,\u001b[0m\u001b[0;34m\u001b[0m\u001b[0;34m\u001b[0m\u001b[0m\n",
            "\u001b[0;32m/usr/local/lib/python3.10/dist-packages/keras/saving/legacy/serialization.py\u001b[0m in \u001b[0;36mdeserialize_keras_object\u001b[0;34m(identifier, module_objects, custom_objects, printable_module_name)\u001b[0m\n\u001b[1;32m    501\u001b[0m             \u001b[0;32mif\u001b[0m \u001b[0;34m\"custom_objects\"\u001b[0m \u001b[0;32min\u001b[0m \u001b[0marg_spec\u001b[0m\u001b[0;34m.\u001b[0m\u001b[0margs\u001b[0m\u001b[0;34m:\u001b[0m\u001b[0;34m\u001b[0m\u001b[0;34m\u001b[0m\u001b[0m\n\u001b[1;32m    502\u001b[0m                 \u001b[0mtlco\u001b[0m \u001b[0;34m=\u001b[0m \u001b[0mobject_registration\u001b[0m\u001b[0;34m.\u001b[0m\u001b[0m_THREAD_LOCAL_CUSTOM_OBJECTS\u001b[0m\u001b[0;34m.\u001b[0m\u001b[0m__dict__\u001b[0m\u001b[0;34m\u001b[0m\u001b[0;34m\u001b[0m\u001b[0m\n\u001b[0;32m--> 503\u001b[0;31m                 deserialized_obj = cls.from_config(\n\u001b[0m\u001b[1;32m    504\u001b[0m                     \u001b[0mcls_config\u001b[0m\u001b[0;34m,\u001b[0m\u001b[0;34m\u001b[0m\u001b[0;34m\u001b[0m\u001b[0m\n\u001b[1;32m    505\u001b[0m                     custom_objects={\n",
            "\u001b[0;32m/usr/local/lib/python3.10/dist-packages/keras/engine/training.py\u001b[0m in \u001b[0;36mfrom_config\u001b[0;34m(cls, config, custom_objects)\u001b[0m\n\u001b[1;32m   3051\u001b[0m                 \u001b[0;31m# Revive Functional model\u001b[0m\u001b[0;34m\u001b[0m\u001b[0;34m\u001b[0m\u001b[0m\n\u001b[1;32m   3052\u001b[0m                 \u001b[0;31m# (but not Functional subclasses with a custom __init__)\u001b[0m\u001b[0;34m\u001b[0m\u001b[0;34m\u001b[0m\u001b[0m\n\u001b[0;32m-> 3053\u001b[0;31m                 inputs, outputs, layers = functional.reconstruct_from_config(\n\u001b[0m\u001b[1;32m   3054\u001b[0m                     \u001b[0mconfig\u001b[0m\u001b[0;34m,\u001b[0m \u001b[0mcustom_objects\u001b[0m\u001b[0;34m\u001b[0m\u001b[0;34m\u001b[0m\u001b[0m\n\u001b[1;32m   3055\u001b[0m                 )\n",
            "\u001b[0;32m/usr/local/lib/python3.10/dist-packages/keras/engine/functional.py\u001b[0m in \u001b[0;36mreconstruct_from_config\u001b[0;34m(config, custom_objects, created_layers)\u001b[0m\n\u001b[1;32m   1481\u001b[0m     \u001b[0;31m# First, we create all layers and enqueue nodes to be processed\u001b[0m\u001b[0;34m\u001b[0m\u001b[0;34m\u001b[0m\u001b[0m\n\u001b[1;32m   1482\u001b[0m     \u001b[0;32mfor\u001b[0m \u001b[0mlayer_data\u001b[0m \u001b[0;32min\u001b[0m \u001b[0mconfig\u001b[0m\u001b[0;34m[\u001b[0m\u001b[0;34m\"layers\"\u001b[0m\u001b[0;34m]\u001b[0m\u001b[0;34m:\u001b[0m\u001b[0;34m\u001b[0m\u001b[0;34m\u001b[0m\u001b[0m\n\u001b[0;32m-> 1483\u001b[0;31m         \u001b[0mprocess_layer\u001b[0m\u001b[0;34m(\u001b[0m\u001b[0mlayer_data\u001b[0m\u001b[0;34m)\u001b[0m\u001b[0;34m\u001b[0m\u001b[0;34m\u001b[0m\u001b[0m\n\u001b[0m\u001b[1;32m   1484\u001b[0m     \u001b[0;31m# Then we process nodes in order of layer depth.\u001b[0m\u001b[0;34m\u001b[0m\u001b[0;34m\u001b[0m\u001b[0m\n\u001b[1;32m   1485\u001b[0m     \u001b[0;31m# Nodes that cannot yet be processed (if the inbound node\u001b[0m\u001b[0;34m\u001b[0m\u001b[0;34m\u001b[0m\u001b[0m\n",
            "\u001b[0;32m/usr/local/lib/python3.10/dist-packages/keras/engine/functional.py\u001b[0m in \u001b[0;36mprocess_layer\u001b[0;34m(layer_data)\u001b[0m\n\u001b[1;32m   1462\u001b[0m             \u001b[0;32mfrom\u001b[0m \u001b[0mkeras\u001b[0m\u001b[0;34m.\u001b[0m\u001b[0mlayers\u001b[0m \u001b[0;32mimport\u001b[0m \u001b[0mdeserialize\u001b[0m \u001b[0;32mas\u001b[0m \u001b[0mdeserialize_layer\u001b[0m\u001b[0;34m\u001b[0m\u001b[0;34m\u001b[0m\u001b[0m\n\u001b[1;32m   1463\u001b[0m \u001b[0;34m\u001b[0m\u001b[0m\n\u001b[0;32m-> 1464\u001b[0;31m             \u001b[0mlayer\u001b[0m \u001b[0;34m=\u001b[0m \u001b[0mdeserialize_layer\u001b[0m\u001b[0;34m(\u001b[0m\u001b[0mlayer_data\u001b[0m\u001b[0;34m,\u001b[0m \u001b[0mcustom_objects\u001b[0m\u001b[0;34m=\u001b[0m\u001b[0mcustom_objects\u001b[0m\u001b[0;34m)\u001b[0m\u001b[0;34m\u001b[0m\u001b[0;34m\u001b[0m\u001b[0m\n\u001b[0m\u001b[1;32m   1465\u001b[0m             \u001b[0mcreated_layers\u001b[0m\u001b[0;34m[\u001b[0m\u001b[0mlayer_name\u001b[0m\u001b[0;34m]\u001b[0m \u001b[0;34m=\u001b[0m \u001b[0mlayer\u001b[0m\u001b[0;34m\u001b[0m\u001b[0;34m\u001b[0m\u001b[0m\n\u001b[1;32m   1466\u001b[0m \u001b[0;34m\u001b[0m\u001b[0m\n",
            "\u001b[0;32m/usr/local/lib/python3.10/dist-packages/keras/layers/serialization.py\u001b[0m in \u001b[0;36mdeserialize\u001b[0;34m(config, custom_objects, use_legacy_format)\u001b[0m\n\u001b[1;32m    263\u001b[0m \u001b[0;34m\u001b[0m\u001b[0m\n\u001b[1;32m    264\u001b[0m     \u001b[0;31m# To be replaced by new serialization_lib\u001b[0m\u001b[0;34m\u001b[0m\u001b[0;34m\u001b[0m\u001b[0m\n\u001b[0;32m--> 265\u001b[0;31m     return legacy_serialization.deserialize_keras_object(\n\u001b[0m\u001b[1;32m    266\u001b[0m         \u001b[0mconfig\u001b[0m\u001b[0;34m,\u001b[0m\u001b[0;34m\u001b[0m\u001b[0;34m\u001b[0m\u001b[0m\n\u001b[1;32m    267\u001b[0m         \u001b[0mmodule_objects\u001b[0m\u001b[0;34m=\u001b[0m\u001b[0mLOCAL\u001b[0m\u001b[0;34m.\u001b[0m\u001b[0mALL_OBJECTS\u001b[0m\u001b[0;34m,\u001b[0m\u001b[0;34m\u001b[0m\u001b[0;34m\u001b[0m\u001b[0m\n",
            "\u001b[0;32m/usr/local/lib/python3.10/dist-packages/keras/saving/legacy/serialization.py\u001b[0m in \u001b[0;36mdeserialize_keras_object\u001b[0;34m(identifier, module_objects, custom_objects, printable_module_name)\u001b[0m\n\u001b[1;32m    511\u001b[0m             \u001b[0;32melse\u001b[0m\u001b[0;34m:\u001b[0m\u001b[0;34m\u001b[0m\u001b[0;34m\u001b[0m\u001b[0m\n\u001b[1;32m    512\u001b[0m                 \u001b[0;32mwith\u001b[0m \u001b[0mobject_registration\u001b[0m\u001b[0;34m.\u001b[0m\u001b[0mCustomObjectScope\u001b[0m\u001b[0;34m(\u001b[0m\u001b[0mcustom_objects\u001b[0m\u001b[0;34m)\u001b[0m\u001b[0;34m:\u001b[0m\u001b[0;34m\u001b[0m\u001b[0;34m\u001b[0m\u001b[0m\n\u001b[0;32m--> 513\u001b[0;31m                     \u001b[0mdeserialized_obj\u001b[0m \u001b[0;34m=\u001b[0m \u001b[0mcls\u001b[0m\u001b[0;34m.\u001b[0m\u001b[0mfrom_config\u001b[0m\u001b[0;34m(\u001b[0m\u001b[0mcls_config\u001b[0m\u001b[0;34m)\u001b[0m\u001b[0;34m\u001b[0m\u001b[0;34m\u001b[0m\u001b[0m\n\u001b[0m\u001b[1;32m    514\u001b[0m         \u001b[0;32melse\u001b[0m\u001b[0;34m:\u001b[0m\u001b[0;34m\u001b[0m\u001b[0;34m\u001b[0m\u001b[0m\n\u001b[1;32m    515\u001b[0m             \u001b[0;31m# Then `cls` may be a function returning a class.\u001b[0m\u001b[0;34m\u001b[0m\u001b[0;34m\u001b[0m\u001b[0m\n",
            "\u001b[0;32m/usr/local/lib/python3.10/dist-packages/keras/engine/base_layer.py\u001b[0m in \u001b[0;36mfrom_config\u001b[0;34m(cls, config)\u001b[0m\n\u001b[1;32m    866\u001b[0m         \"\"\"\n\u001b[1;32m    867\u001b[0m         \u001b[0;32mtry\u001b[0m\u001b[0;34m:\u001b[0m\u001b[0;34m\u001b[0m\u001b[0;34m\u001b[0m\u001b[0m\n\u001b[0;32m--> 868\u001b[0;31m             \u001b[0;32mreturn\u001b[0m \u001b[0mcls\u001b[0m\u001b[0;34m(\u001b[0m\u001b[0;34m**\u001b[0m\u001b[0mconfig\u001b[0m\u001b[0;34m)\u001b[0m\u001b[0;34m\u001b[0m\u001b[0;34m\u001b[0m\u001b[0m\n\u001b[0m\u001b[1;32m    869\u001b[0m         \u001b[0;32mexcept\u001b[0m \u001b[0mException\u001b[0m \u001b[0;32mas\u001b[0m \u001b[0me\u001b[0m\u001b[0;34m:\u001b[0m\u001b[0;34m\u001b[0m\u001b[0;34m\u001b[0m\u001b[0m\n\u001b[1;32m    870\u001b[0m             raise TypeError(\n",
            "\u001b[0;32m/usr/local/lib/python3.10/dist-packages/keras/engine/base_layer.py\u001b[0m in \u001b[0;36m__new__\u001b[0;34m(cls, *args, **kwargs)\u001b[0m\n\u001b[1;32m    769\u001b[0m             \u001b[0mauto_get_config\u001b[0m \u001b[0;34m=\u001b[0m \u001b[0;32mFalse\u001b[0m\u001b[0;34m\u001b[0m\u001b[0;34m\u001b[0m\u001b[0m\n\u001b[1;32m    770\u001b[0m         \u001b[0;32mtry\u001b[0m\u001b[0;34m:\u001b[0m\u001b[0;34m\u001b[0m\u001b[0;34m\u001b[0m\u001b[0m\n\u001b[0;32m--> 771\u001b[0;31m             \u001b[0minstance\u001b[0m\u001b[0;34m.\u001b[0m\u001b[0m_auto_get_config\u001b[0m \u001b[0;34m=\u001b[0m \u001b[0mauto_get_config\u001b[0m\u001b[0;34m\u001b[0m\u001b[0;34m\u001b[0m\u001b[0m\n\u001b[0m\u001b[1;32m    772\u001b[0m             \u001b[0;32mif\u001b[0m \u001b[0mauto_get_config\u001b[0m\u001b[0;34m:\u001b[0m\u001b[0;34m\u001b[0m\u001b[0;34m\u001b[0m\u001b[0m\n\u001b[1;32m    773\u001b[0m                 \u001b[0minstance\u001b[0m\u001b[0;34m.\u001b[0m\u001b[0m_auto_config\u001b[0m \u001b[0;34m=\u001b[0m \u001b[0mserialization_lib\u001b[0m\u001b[0;34m.\u001b[0m\u001b[0mConfig\u001b[0m\u001b[0;34m(\u001b[0m\u001b[0;34m**\u001b[0m\u001b[0mkwargs\u001b[0m\u001b[0;34m)\u001b[0m\u001b[0;34m\u001b[0m\u001b[0;34m\u001b[0m\u001b[0m\n",
            "\u001b[0;32m/usr/local/lib/python3.10/dist-packages/keras/engine/base_layer.py\u001b[0m in \u001b[0;36m__setattr__\u001b[0;34m(self, name, value)\u001b[0m\n\u001b[1;32m   3165\u001b[0m         )\n\u001b[1;32m   3166\u001b[0m \u001b[0;34m\u001b[0m\u001b[0m\n\u001b[0;32m-> 3167\u001b[0;31m         \u001b[0mreference_counts\u001b[0m \u001b[0;34m=\u001b[0m \u001b[0mself\u001b[0m\u001b[0;34m.\u001b[0m\u001b[0m_obj_reference_counts\u001b[0m\u001b[0;34m\u001b[0m\u001b[0;34m\u001b[0m\u001b[0m\n\u001b[0m\u001b[1;32m   3168\u001b[0m         \u001b[0mreference_counts\u001b[0m\u001b[0;34m[\u001b[0m\u001b[0mvalue\u001b[0m\u001b[0;34m]\u001b[0m \u001b[0;34m=\u001b[0m \u001b[0mreference_counts\u001b[0m\u001b[0;34m.\u001b[0m\u001b[0mget\u001b[0m\u001b[0;34m(\u001b[0m\u001b[0mvalue\u001b[0m\u001b[0;34m,\u001b[0m \u001b[0;36m0\u001b[0m\u001b[0;34m)\u001b[0m \u001b[0;34m+\u001b[0m \u001b[0;36m1\u001b[0m\u001b[0;34m\u001b[0m\u001b[0;34m\u001b[0m\u001b[0m\n\u001b[1;32m   3169\u001b[0m \u001b[0;34m\u001b[0m\u001b[0m\n",
            "\u001b[0;32m/usr/local/lib/python3.10/dist-packages/keras/engine/base_layer.py\u001b[0m in \u001b[0;36m_obj_reference_counts\u001b[0;34m(self)\u001b[0m\n\u001b[1;32m   3052\u001b[0m                 \u001b[0mlayer\u001b[0m\u001b[0;34m.\u001b[0m\u001b[0mtrainable\u001b[0m \u001b[0;34m=\u001b[0m \u001b[0mtrainable_state\u001b[0m\u001b[0;34m[\u001b[0m\u001b[0mlayer\u001b[0m\u001b[0;34m]\u001b[0m\u001b[0;34m\u001b[0m\u001b[0;34m\u001b[0m\u001b[0m\n\u001b[1;32m   3053\u001b[0m \u001b[0;34m\u001b[0m\u001b[0m\n\u001b[0;32m-> 3054\u001b[0;31m     \u001b[0;34m@\u001b[0m\u001b[0mproperty\u001b[0m\u001b[0;34m\u001b[0m\u001b[0;34m\u001b[0m\u001b[0m\n\u001b[0m\u001b[1;32m   3055\u001b[0m     \u001b[0;32mdef\u001b[0m \u001b[0m_obj_reference_counts\u001b[0m\u001b[0;34m(\u001b[0m\u001b[0mself\u001b[0m\u001b[0;34m)\u001b[0m\u001b[0;34m:\u001b[0m\u001b[0;34m\u001b[0m\u001b[0;34m\u001b[0m\u001b[0m\n\u001b[1;32m   3056\u001b[0m         \u001b[0;34m\"\"\"A dict counting the number of attributes referencing an object.\"\"\"\u001b[0m\u001b[0;34m\u001b[0m\u001b[0;34m\u001b[0m\u001b[0m\n",
            "\u001b[0;31mKeyboardInterrupt\u001b[0m: "
          ]
        }
      ]
    },
    {
      "cell_type": "code",
      "source": [
        "from tensorflow.keras.preprocessing import image\n",
        "\n",
        "test_image = image.load_img('/content/drive/MyDrive/TyreConditionPrediction/data/Tire Textures/testing_data/cracked/IMG_4277.jpg', target_size = (224, 224)) # Get the image\n",
        "transformed_image = image.img_to_array(test_image) # Transform image to array\n",
        "transformed_image = np.expand_dims(transformed_image, axis=0) # Expand dims to make a batch of 1 image\n",
        "prediction = model.predict(transformed_image)\n",
        "\n",
        "print(prediction)\n",
        "\n",
        "if prediction[0] < 0.5:\n",
        "  print(\"This tyre HAS a problem!\")\n",
        "else:\n",
        "  print(\"This tyre HASN'T problem!\")"
      ],
      "metadata": {
        "colab": {
          "base_uri": "https://localhost:8080/"
        },
        "id": "jsxibOcpFrcr",
        "outputId": "5092e2b9-bf01-487a-92d1-a8f4af47a87e"
      },
      "execution_count": 20,
      "outputs": [
        {
          "output_type": "stream",
          "name": "stdout",
          "text": [
            "1/1 [==============================] - 2s 2s/step\n",
            "[[0.9999504]]\n",
            "This tyre HASN'T problem!\n"
          ]
        }
      ]
    },
    {
      "cell_type": "code",
      "source": [],
      "metadata": {
        "id": "dH2Tix-8Gw13"
      },
      "execution_count": null,
      "outputs": []
    }
  ]
}